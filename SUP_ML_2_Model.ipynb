{
  "cells": [
    {
      "cell_type": "markdown",
      "metadata": {
        "id": "87Bve6QZggnT"
      },
      "source": [
        "# TEMPLATE 2 - MODEL"
      ]
    },
    {
      "cell_type": "markdown",
      "metadata": {
        "id": "jTEOHHidYOV-"
      },
      "source": [
        "# Libraries"
      ]
    },
    {
      "cell_type": "code",
      "execution_count": 1,
      "metadata": {
        "id": "5Rkor61lYTQX"
      },
      "outputs": [],
      "source": [
        "import pandas as pd     # Manejo de dataframes\n",
        "import numpy as np      # Calculos matriciales\n",
        "import matplotlib.pyplot as plt    # Visualizacion\n",
        "import seaborn as sns              # Visualizacion\n",
        "from google.colab import drive     # Drive en Colab\n",
        "\n",
        "\n",
        "\n",
        "import warnings\n",
        "warnings.filterwarnings(\"ignore\")  # inhabilita warnings\n",
        "\n",
        "from pickle import dump    # guardar archivos comprimidos"
      ]
    },
    {
      "cell_type": "markdown",
      "metadata": {
        "id": "B6bkXCg5Xx4B"
      },
      "source": [
        "# Load clean data"
      ]
    },
    {
      "cell_type": "code",
      "execution_count": 2,
      "metadata": {
        "colab": {
          "base_uri": "https://localhost:8080/"
        },
        "id": "NVI1YfA-lF1K",
        "outputId": "39341bc9-5333-4e9a-ded9-b08f938c1b56"
      },
      "outputs": [
        {
          "output_type": "stream",
          "name": "stdout",
          "text": [
            "Mounted at /content/drive\n"
          ]
        }
      ],
      "source": [
        "from google.colab import drive\n",
        "drive.mount('/content/drive')"
      ]
    },
    {
      "cell_type": "code",
      "execution_count": 3,
      "metadata": {
        "id": "4VasOerVYVv0"
      },
      "outputs": [],
      "source": [
        "df3 = pd.read_csv('/content/drive/MyDrive/FINAL/df3_prepo.csv',index_col=0)"
      ]
    },
    {
      "cell_type": "code",
      "execution_count": null,
      "metadata": {
        "colab": {
          "base_uri": "https://localhost:8080/",
          "height": 299
        },
        "id": "FUjnMOegZSg1",
        "outputId": "637aa644-e869-4823-fdd0-5f44c9997974"
      },
      "outputs": [
        {
          "data": {
            "text/html": [
              "\n",
              "  <div id=\"df-3b147f2b-0acd-4f3c-9c42-2a9716f42a28\">\n",
              "    <div class=\"colab-df-container\">\n",
              "      <div>\n",
              "<style scoped>\n",
              "    .dataframe tbody tr th:only-of-type {\n",
              "        vertical-align: middle;\n",
              "    }\n",
              "\n",
              "    .dataframe tbody tr th {\n",
              "        vertical-align: top;\n",
              "    }\n",
              "\n",
              "    .dataframe thead th {\n",
              "        text-align: right;\n",
              "    }\n",
              "</style>\n",
              "<table border=\"1\" class=\"dataframe\">\n",
              "  <thead>\n",
              "    <tr style=\"text-align: right;\">\n",
              "      <th></th>\n",
              "      <th>rev</th>\n",
              "      <th>mou</th>\n",
              "      <th>totmrc</th>\n",
              "      <th>da</th>\n",
              "      <th>ovrmou</th>\n",
              "      <th>datovr</th>\n",
              "      <th>roam</th>\n",
              "      <th>change_mou</th>\n",
              "      <th>change_rev</th>\n",
              "      <th>unan_vce</th>\n",
              "      <th>...</th>\n",
              "      <th>ethnic_R</th>\n",
              "      <th>ethnic_S</th>\n",
              "      <th>ethnic_U</th>\n",
              "      <th>ethnic_Z</th>\n",
              "      <th>creditcd_N</th>\n",
              "      <th>region_midwest</th>\n",
              "      <th>region_north</th>\n",
              "      <th>region_south</th>\n",
              "      <th>region_west</th>\n",
              "      <th>tiene_hijos_menores_U</th>\n",
              "    </tr>\n",
              "  </thead>\n",
              "  <tbody>\n",
              "    <tr>\n",
              "      <th>0</th>\n",
              "      <td>23.9975</td>\n",
              "      <td>219.25</td>\n",
              "      <td>22.500</td>\n",
              "      <td>0.2475</td>\n",
              "      <td>0.00</td>\n",
              "      <td>0.0</td>\n",
              "      <td>0.0</td>\n",
              "      <td>-157.25</td>\n",
              "      <td>-18.9975</td>\n",
              "      <td>6.333333</td>\n",
              "      <td>...</td>\n",
              "      <td>0</td>\n",
              "      <td>0</td>\n",
              "      <td>0</td>\n",
              "      <td>0</td>\n",
              "      <td>0</td>\n",
              "      <td>0</td>\n",
              "      <td>0</td>\n",
              "      <td>0</td>\n",
              "      <td>1</td>\n",
              "      <td>1</td>\n",
              "    </tr>\n",
              "    <tr>\n",
              "      <th>1</th>\n",
              "      <td>57.4925</td>\n",
              "      <td>482.75</td>\n",
              "      <td>37.425</td>\n",
              "      <td>0.2475</td>\n",
              "      <td>22.75</td>\n",
              "      <td>0.0</td>\n",
              "      <td>0.0</td>\n",
              "      <td>532.25</td>\n",
              "      <td>50.9875</td>\n",
              "      <td>61.333333</td>\n",
              "      <td>...</td>\n",
              "      <td>0</td>\n",
              "      <td>0</td>\n",
              "      <td>0</td>\n",
              "      <td>1</td>\n",
              "      <td>0</td>\n",
              "      <td>1</td>\n",
              "      <td>0</td>\n",
              "      <td>0</td>\n",
              "      <td>0</td>\n",
              "      <td>1</td>\n",
              "    </tr>\n",
              "    <tr>\n",
              "      <th>2</th>\n",
              "      <td>16.9900</td>\n",
              "      <td>10.25</td>\n",
              "      <td>16.990</td>\n",
              "      <td>0.0000</td>\n",
              "      <td>0.00</td>\n",
              "      <td>0.0</td>\n",
              "      <td>0.0</td>\n",
              "      <td>-4.25</td>\n",
              "      <td>0.0000</td>\n",
              "      <td>2.666667</td>\n",
              "      <td>...</td>\n",
              "      <td>0</td>\n",
              "      <td>0</td>\n",
              "      <td>0</td>\n",
              "      <td>0</td>\n",
              "      <td>0</td>\n",
              "      <td>1</td>\n",
              "      <td>0</td>\n",
              "      <td>0</td>\n",
              "      <td>0</td>\n",
              "      <td>0</td>\n",
              "    </tr>\n",
              "    <tr>\n",
              "      <th>3</th>\n",
              "      <td>38.0000</td>\n",
              "      <td>7.50</td>\n",
              "      <td>38.000</td>\n",
              "      <td>0.0000</td>\n",
              "      <td>0.00</td>\n",
              "      <td>0.0</td>\n",
              "      <td>0.0</td>\n",
              "      <td>-1.50</td>\n",
              "      <td>0.0000</td>\n",
              "      <td>0.000000</td>\n",
              "      <td>...</td>\n",
              "      <td>0</td>\n",
              "      <td>0</td>\n",
              "      <td>1</td>\n",
              "      <td>0</td>\n",
              "      <td>0</td>\n",
              "      <td>1</td>\n",
              "      <td>0</td>\n",
              "      <td>0</td>\n",
              "      <td>0</td>\n",
              "      <td>0</td>\n",
              "    </tr>\n",
              "    <tr>\n",
              "      <th>4</th>\n",
              "      <td>55.2300</td>\n",
              "      <td>570.50</td>\n",
              "      <td>71.980</td>\n",
              "      <td>0.0000</td>\n",
              "      <td>0.00</td>\n",
              "      <td>0.0</td>\n",
              "      <td>0.0</td>\n",
              "      <td>38.50</td>\n",
              "      <td>0.0000</td>\n",
              "      <td>77.000000</td>\n",
              "      <td>...</td>\n",
              "      <td>0</td>\n",
              "      <td>0</td>\n",
              "      <td>0</td>\n",
              "      <td>0</td>\n",
              "      <td>0</td>\n",
              "      <td>0</td>\n",
              "      <td>1</td>\n",
              "      <td>0</td>\n",
              "      <td>0</td>\n",
              "      <td>1</td>\n",
              "    </tr>\n",
              "  </tbody>\n",
              "</table>\n",
              "<p>5 rows × 112 columns</p>\n",
              "</div>\n",
              "      <button class=\"colab-df-convert\" onclick=\"convertToInteractive('df-3b147f2b-0acd-4f3c-9c42-2a9716f42a28')\"\n",
              "              title=\"Convert this dataframe to an interactive table.\"\n",
              "              style=\"display:none;\">\n",
              "        \n",
              "  <svg xmlns=\"http://www.w3.org/2000/svg\" height=\"24px\"viewBox=\"0 0 24 24\"\n",
              "       width=\"24px\">\n",
              "    <path d=\"M0 0h24v24H0V0z\" fill=\"none\"/>\n",
              "    <path d=\"M18.56 5.44l.94 2.06.94-2.06 2.06-.94-2.06-.94-.94-2.06-.94 2.06-2.06.94zm-11 1L8.5 8.5l.94-2.06 2.06-.94-2.06-.94L8.5 2.5l-.94 2.06-2.06.94zm10 10l.94 2.06.94-2.06 2.06-.94-2.06-.94-.94-2.06-.94 2.06-2.06.94z\"/><path d=\"M17.41 7.96l-1.37-1.37c-.4-.4-.92-.59-1.43-.59-.52 0-1.04.2-1.43.59L10.3 9.45l-7.72 7.72c-.78.78-.78 2.05 0 2.83L4 21.41c.39.39.9.59 1.41.59.51 0 1.02-.2 1.41-.59l7.78-7.78 2.81-2.81c.8-.78.8-2.07 0-2.86zM5.41 20L4 18.59l7.72-7.72 1.47 1.35L5.41 20z\"/>\n",
              "  </svg>\n",
              "      </button>\n",
              "      \n",
              "  <style>\n",
              "    .colab-df-container {\n",
              "      display:flex;\n",
              "      flex-wrap:wrap;\n",
              "      gap: 12px;\n",
              "    }\n",
              "\n",
              "    .colab-df-convert {\n",
              "      background-color: #E8F0FE;\n",
              "      border: none;\n",
              "      border-radius: 50%;\n",
              "      cursor: pointer;\n",
              "      display: none;\n",
              "      fill: #1967D2;\n",
              "      height: 32px;\n",
              "      padding: 0 0 0 0;\n",
              "      width: 32px;\n",
              "    }\n",
              "\n",
              "    .colab-df-convert:hover {\n",
              "      background-color: #E2EBFA;\n",
              "      box-shadow: 0px 1px 2px rgba(60, 64, 67, 0.3), 0px 1px 3px 1px rgba(60, 64, 67, 0.15);\n",
              "      fill: #174EA6;\n",
              "    }\n",
              "\n",
              "    [theme=dark] .colab-df-convert {\n",
              "      background-color: #3B4455;\n",
              "      fill: #D2E3FC;\n",
              "    }\n",
              "\n",
              "    [theme=dark] .colab-df-convert:hover {\n",
              "      background-color: #434B5C;\n",
              "      box-shadow: 0px 1px 3px 1px rgba(0, 0, 0, 0.15);\n",
              "      filter: drop-shadow(0px 1px 2px rgba(0, 0, 0, 0.3));\n",
              "      fill: #FFFFFF;\n",
              "    }\n",
              "  </style>\n",
              "\n",
              "      <script>\n",
              "        const buttonEl =\n",
              "          document.querySelector('#df-3b147f2b-0acd-4f3c-9c42-2a9716f42a28 button.colab-df-convert');\n",
              "        buttonEl.style.display =\n",
              "          google.colab.kernel.accessAllowed ? 'block' : 'none';\n",
              "\n",
              "        async function convertToInteractive(key) {\n",
              "          const element = document.querySelector('#df-3b147f2b-0acd-4f3c-9c42-2a9716f42a28');\n",
              "          const dataTable =\n",
              "            await google.colab.kernel.invokeFunction('convertToInteractive',\n",
              "                                                     [key], {});\n",
              "          if (!dataTable) return;\n",
              "\n",
              "          const docLinkHtml = 'Like what you see? Visit the ' +\n",
              "            '<a target=\"_blank\" href=https://colab.research.google.com/notebooks/data_table.ipynb>data table notebook</a>'\n",
              "            + ' to learn more about interactive tables.';\n",
              "          element.innerHTML = '';\n",
              "          dataTable['output_type'] = 'display_data';\n",
              "          await google.colab.output.renderOutput(dataTable, element);\n",
              "          const docLink = document.createElement('div');\n",
              "          docLink.innerHTML = docLinkHtml;\n",
              "          element.appendChild(docLink);\n",
              "        }\n",
              "      </script>\n",
              "    </div>\n",
              "  </div>\n",
              "  "
            ],
            "text/plain": [
              "       rev     mou  totmrc      da  ovrmou  datovr  roam  change_mou  \\\n",
              "0  23.9975  219.25  22.500  0.2475    0.00     0.0   0.0     -157.25   \n",
              "1  57.4925  482.75  37.425  0.2475   22.75     0.0   0.0      532.25   \n",
              "2  16.9900   10.25  16.990  0.0000    0.00     0.0   0.0       -4.25   \n",
              "3  38.0000    7.50  38.000  0.0000    0.00     0.0   0.0       -1.50   \n",
              "4  55.2300  570.50  71.980  0.0000    0.00     0.0   0.0       38.50   \n",
              "\n",
              "   change_rev   unan_vce  ...  ethnic_R  ethnic_S  ethnic_U  ethnic_Z  \\\n",
              "0    -18.9975   6.333333  ...         0         0         0         0   \n",
              "1     50.9875  61.333333  ...         0         0         0         1   \n",
              "2      0.0000   2.666667  ...         0         0         0         0   \n",
              "3      0.0000   0.000000  ...         0         0         1         0   \n",
              "4      0.0000  77.000000  ...         0         0         0         0   \n",
              "\n",
              "   creditcd_N  region_midwest  region_north  region_south  region_west  \\\n",
              "0           0               0             0             0            1   \n",
              "1           0               1             0             0            0   \n",
              "2           0               1             0             0            0   \n",
              "3           0               1             0             0            0   \n",
              "4           0               0             1             0            0   \n",
              "\n",
              "   tiene_hijos_menores_U  \n",
              "0                      1  \n",
              "1                      1  \n",
              "2                      0  \n",
              "3                      0  \n",
              "4                      1  \n",
              "\n",
              "[5 rows x 112 columns]"
            ]
          },
          "execution_count": 51,
          "metadata": {},
          "output_type": "execute_result"
        }
      ],
      "source": [
        "df3.head()"
      ]
    },
    {
      "cell_type": "markdown",
      "metadata": {
        "id": "drTqDQdPw2Sd"
      },
      "source": [
        "# Split X-y"
      ]
    },
    {
      "cell_type": "code",
      "execution_count": 4,
      "metadata": {
        "id": "NFxQ_0Zwm_xd"
      },
      "outputs": [],
      "source": [
        "target = 'churn'"
      ]
    },
    {
      "cell_type": "markdown",
      "metadata": {
        "id": "l_BZ3003nAZj"
      },
      "source": [
        "# Target distribution"
      ]
    },
    {
      "cell_type": "code",
      "execution_count": 7,
      "metadata": {
        "colab": {
          "base_uri": "https://localhost:8080/",
          "height": 312
        },
        "id": "63gB3sumpYX6",
        "outputId": "91d7d1e8-72f0-4ddd-958f-23d49504b1a6"
      },
      "outputs": [
        {
          "output_type": "execute_result",
          "data": {
            "text/plain": [
              "[]"
            ]
          },
          "metadata": {},
          "execution_count": 7
        },
        {
          "output_type": "display_data",
          "data": {
            "text/plain": [
              "<Figure size 432x288 with 1 Axes>"
            ],
            "image/png": "[encoded data removed]"
          },
          "metadata": {
            "needs_background": "light"
          }
        }
      ],
      "source": [
        "sns.countplot(x=target,data=df3)\n",
        "plt.title(target +\"Target distribution\")\n",
        "plt.plot()"
      ]
    },
    {
      "cell_type": "markdown",
      "metadata": {
        "id": "udKyhLEXaLRV"
      },
      "source": [
        "Observamos que el target no esta desbalanceado, no es necesario realizar undersampling"
      ]
    },
    {
      "cell_type": "markdown",
      "metadata": {
        "id": "MgagFvQwiBlE"
      },
      "source": [
        "# Undersampling (*)"
      ]
    },
    {
      "cell_type": "markdown",
      "metadata": {
        "id": "wc8EBxAntRId"
      },
      "source": [
        "**NOTA:** SOLO EN CLASIFICACIÓN cuando el ratio de éxitos está MUY DESBALANCEADO (<10%)."
      ]
    },
    {
      "cell_type": "markdown",
      "metadata": {
        "id": "FsVMBOTnhuVa"
      },
      "source": [
        "# Split TRAIN-TEST data"
      ]
    },
    {
      "cell_type": "code",
      "execution_count": 8,
      "metadata": {
        "id": "VjjKnOmchtYs"
      },
      "outputs": [],
      "source": [
        "from sklearn.model_selection import train_test_split"
      ]
    },
    {
      "cell_type": "code",
      "execution_count": 9,
      "metadata": {
        "id": "bN7U1JSzpqAW"
      },
      "outputs": [],
      "source": [
        "target = 'churn'\n",
        "features = df3.columns[df3.columns != target]"
      ]
    },
    {
      "cell_type": "code",
      "execution_count": 10,
      "metadata": {
        "id": "4ubwapyWaxhN"
      },
      "outputs": [],
      "source": [
        "y = df3[target]\n",
        "X = df3[features]"
      ]
    },
    {
      "cell_type": "code",
      "execution_count": null,
      "metadata": {
        "colab": {
          "base_uri": "https://localhost:8080/"
        },
        "id": "YCjmr5hEwqcp",
        "outputId": "0e2c6c7c-e3e0-44d0-8614-4b8a4f7d5f3b"
      },
      "outputs": [
        {
          "data": {
            "text/plain": [
              "count    90000.000000\n",
              "mean         0.508889\n",
              "std          0.499924\n",
              "min          0.000000\n",
              "25%          0.000000\n",
              "50%          1.000000\n",
              "75%          1.000000\n",
              "max          1.000000\n",
              "Name: churn, dtype: float64"
            ]
          },
          "execution_count": 57,
          "metadata": {},
          "output_type": "execute_result"
        }
      ],
      "source": [
        "y.describe()"
      ]
    },
    {
      "cell_type": "markdown",
      "metadata": {
        "id": "hptmoibZcjOL"
      },
      "source": [
        "Divide X-y en Train (80%) y Test (20%)"
      ]
    },
    {
      "cell_type": "code",
      "execution_count": 11,
      "metadata": {
        "id": "N4_bRMyzcvc0"
      },
      "outputs": [],
      "source": [
        "X_train, X_test, y_train, y_test = train_test_split(X, y, test_size=0.20, random_state=40)"
      ]
    },
    {
      "cell_type": "code",
      "execution_count": 12,
      "metadata": {
        "colab": {
          "base_uri": "https://localhost:8080/"
        },
        "id": "IzNbZbOBcvZ7",
        "outputId": "fd0567b9-f731-4c68-d068-2a4124473d0c"
      },
      "outputs": [
        {
          "output_type": "stream",
          "name": "stdout",
          "text": [
            "Train set size: 72000\n",
            "Test set size: 18000\n"
          ]
        }
      ],
      "source": [
        "print('Train set size:',X_train.shape[0])\n",
        "print('Test set size:',X_test.shape[0])"
      ]
    },
    {
      "cell_type": "code",
      "execution_count": 13,
      "metadata": {
        "colab": {
          "base_uri": "https://localhost:8080/",
          "height": 404
        },
        "id": "PPhIVOiYw3NE",
        "outputId": "e1b0515a-3946-4606-861b-dd196bbde9b7"
      },
      "outputs": [
        {
          "output_type": "display_data",
          "data": {
            "text/plain": [
              "<Figure size 576x432 with 1 Axes>"
            ],
            "image/png": "[encoded data removed]"
          },
          "metadata": {
            "needs_background": "light"
          }
        }
      ],
      "source": [
        "plt.figure(figsize=[8,6])\n",
        "sns.kdeplot(y_train,label='TRAIN')\n",
        "sns.kdeplot(y_test,label='TEST')\n",
        "plt.title('Distribuciones TRAIN vs TEST')\n",
        "plt.legend()\n",
        "plt.show()"
      ]
    },
    {
      "cell_type": "markdown",
      "metadata": {
        "id": "q7PfVjxcf1jm"
      },
      "source": [
        " Rescaling"
      ]
    },
    {
      "cell_type": "markdown",
      "metadata": {
        "id": "Iwfs5DPmhJXW"
      },
      "source": [
        "* NO NECESARIO en modelos de arboles de decisión.\n",
        "* .fit en datos de TRAIN."
      ]
    },
    {
      "cell_type": "markdown",
      "source": [
        "El escalado de características no es necesario en los modelos de árbol de decisión, ya que estos modelos dividen el espacio de características en regiones y no se ven afectados por los cambios de escala en las características individuales. En otras palabras, los modelos de árbol de decisión son invariantes a la escala de las características.\n",
        "\n",
        "Sin embargo, en nuetsro caso el escalado de características puede ser útilya que estamos estudiando el modelo de regresión logística "
      ],
      "metadata": {
        "id": "5_X-QGMiFtfk"
      }
    },
    {
      "cell_type": "code",
      "execution_count": 14,
      "metadata": {
        "id": "KiNsygVyf3Z_"
      },
      "outputs": [],
      "source": [
        "from sklearn.preprocessing import StandardScaler"
      ]
    },
    {
      "cell_type": "code",
      "execution_count": 15,
      "metadata": {
        "id": "jy2BmepXjgJd"
      },
      "outputs": [],
      "source": [
        "scaler = StandardScaler()\n",
        "X_train_std = scaler.fit_transform(X_train)\n",
        "X_test_std = scaler.transform(X_test)\n"
      ]
    },
    {
      "cell_type": "code",
      "execution_count": 16,
      "metadata": {
        "id": "EAc2hgsqxFmJ"
      },
      "outputs": [],
      "source": [
        "from sklearn.model_selection import cross_val_score\n",
        "from sklearn.metrics import roc_auc_score"
      ]
    },
    {
      "cell_type": "code",
      "execution_count": 17,
      "metadata": {
        "colab": {
          "base_uri": "https://localhost:8080/"
        },
        "id": "zCig_W8qjgF3",
        "outputId": "ebfc89f2-a72c-44b4-c9d7-25aff3103b1b"
      },
      "outputs": [
        {
          "output_type": "execute_result",
          "data": {
            "text/plain": [
              "array([[ 0.01236293,  2.38068606,  1.67560598, ..., -0.87499409,\n",
              "        -0.43128313,  0.55471783],\n",
              "       [-0.60082086, -0.85575493, -0.68139897, ..., -0.87499409,\n",
              "        -0.43128313,  0.55471783],\n",
              "       [-0.37423037,  0.42806241, -0.03857944, ..., -0.87499409,\n",
              "        -0.43128313,  0.55471783],\n",
              "       ...,\n",
              "       [ 0.13960632,  1.04210415, -0.03857944, ...,  1.14286486,\n",
              "        -0.43128313,  0.55471783],\n",
              "       [-0.37396317, -0.54267603, -0.68097043, ..., -0.87499409,\n",
              "        -0.43128313,  0.55471783],\n",
              "       [-0.09703111, -0.48888074, -0.89567215, ..., -0.87499409,\n",
              "         2.31866245, -1.80271834]])"
            ]
          },
          "metadata": {},
          "execution_count": 17
        }
      ],
      "source": [
        "X_train_std"
      ]
    },
    {
      "cell_type": "code",
      "execution_count": 18,
      "metadata": {
        "id": "JFcY0HO4jf8o"
      },
      "outputs": [],
      "source": [
        "X_train_std = pd.DataFrame(data = X_train_std, columns=X_train.columns, index=X_train.index)    \n",
        "X_test_std = pd.DataFrame(data = X_test_std, columns=X_test.columns, index=X_test.index)  "
      ]
    },
    {
      "cell_type": "code",
      "execution_count": 19,
      "metadata": {
        "colab": {
          "base_uri": "https://localhost:8080/",
          "height": 487
        },
        "id": "FMJiFMtij9O9",
        "outputId": "ee4d06a4-1aae-4228-ea40-2750058f6985"
      },
      "outputs": [
        {
          "output_type": "execute_result",
          "data": {
            "text/plain": [
              "            rev      mou  totmrc      da  ovrmou  datovr   roam  change_mou  \\\n",
              "69027   58.9225  1731.00   84.99  0.7425   22.75  0.0000  0.000      215.00   \n",
              "10948   30.2375    61.50   29.99  0.2475    0.00  0.0000  0.000       -8.50   \n",
              "15402   40.8375   723.75   44.99  0.2475   14.00  0.0000  0.000      222.25   \n",
              "42463  154.1975   852.50  159.99  4.2075    0.00  0.0000  0.000      553.50   \n",
              "26325   40.6900   156.75   42.49  0.0000    0.00  0.0000  0.320      113.25   \n",
              "...         ...      ...     ...     ...     ...     ...    ...         ...   \n",
              "54578   38.5475   166.25   54.99  0.7425    0.00  0.0000  0.000       67.75   \n",
              "56760   17.1400   297.50   10.00  0.0000    0.00  0.0000  7.015       23.50   \n",
              "80037   64.8750  1040.50   44.99  0.2475   73.25  0.0000  0.000     -361.50   \n",
              "30727   40.8500   223.00   30.00  0.4950   29.00  0.0975  0.195      227.00   \n",
              "11590   53.8050   250.75   24.99  0.0000   76.00  0.0000  0.195      -40.75   \n",
              "\n",
              "       change_rev   unan_vce  ...  ethnic_R  ethnic_S  ethnic_U  ethnic_Z  \\\n",
              "69027    -58.9225   0.000000  ...         0         0         0         0   \n",
              "10948      0.7425   4.666667  ...         0         1         0         0   \n",
              "15402     16.5525  21.333333  ...         0         1         0         0   \n",
              "42463     -1.2375   0.000000  ...         0         0         0         0   \n",
              "26325      0.9600  19.000000  ...         0         1         0         0   \n",
              "...           ...        ...  ...       ...       ...       ...       ...   \n",
              "54578     -2.5675  13.000000  ...         0         1         0         0   \n",
              "56760     -7.1400   8.000000  ...         0         0         0         0   \n",
              "80037     -3.8350  54.000000  ...         0         0         1         0   \n",
              "30727     30.3900  11.666667  ...         0         0         1         0   \n",
              "11590     11.1450  12.333333  ...         0         0         0         0   \n",
              "\n",
              "       creditcd_N  region_midwest  region_north  region_south  region_west  \\\n",
              "69027           1               1             0             0            0   \n",
              "10948           0               0             1             0            0   \n",
              "15402           0               0             1             0            0   \n",
              "42463           0               0             0             1            0   \n",
              "26325           0               0             0             0            1   \n",
              "...           ...             ...           ...           ...          ...   \n",
              "54578           1               1             0             0            0   \n",
              "56760           0               1             0             0            0   \n",
              "80037           1               0             0             1            0   \n",
              "30727           0               1             0             0            0   \n",
              "11590           0               0             0             0            1   \n",
              "\n",
              "       tiene_hijos_menores_U  \n",
              "69027                      1  \n",
              "10948                      1  \n",
              "15402                      1  \n",
              "42463                      1  \n",
              "26325                      0  \n",
              "...                      ...  \n",
              "54578                      1  \n",
              "56760                      0  \n",
              "80037                      1  \n",
              "30727                      1  \n",
              "11590                      0  \n",
              "\n",
              "[72000 rows x 111 columns]"
            ],
            "text/html": [
              "\n",
              "  <div id=\"df-fbc90038-1156-4c38-80e4-624375c750e6\">\n",
              "    <div class=\"colab-df-container\">\n",
              "      <div>\n",
              "<style scoped>\n",
              "    .dataframe tbody tr th:only-of-type {\n",
              "        vertical-align: middle;\n",
              "    }\n",
              "\n",
              "    .dataframe tbody tr th {\n",
              "        vertical-align: top;\n",
              "    }\n",
              "\n",
              "    .dataframe thead th {\n",
              "        text-align: right;\n",
              "    }\n",
              "</style>\n",
              "<table border=\"1\" class=\"dataframe\">\n",
              "  <thead>\n",
              "    <tr style=\"text-align: right;\">\n",
              "      <th></th>\n",
              "      <th>rev</th>\n",
              "      <th>mou</th>\n",
              "      <th>totmrc</th>\n",
              "      <th>da</th>\n",
              "      <th>ovrmou</th>\n",
              "      <th>datovr</th>\n",
              "      <th>roam</th>\n",
              "      <th>change_mou</th>\n",
              "      <th>change_rev</th>\n",
              "      <th>unan_vce</th>\n",
              "      <th>...</th>\n",
              "      <th>ethnic_R</th>\n",
              "      <th>ethnic_S</th>\n",
              "      <th>ethnic_U</th>\n",
              "      <th>ethnic_Z</th>\n",
              "      <th>creditcd_N</th>\n",
              "      <th>region_midwest</th>\n",
              "      <th>region_north</th>\n",
              "      <th>region_south</th>\n",
              "      <th>region_west</th>\n",
              "      <th>tiene_hijos_menores_U</th>\n",
              "    </tr>\n",
              "  </thead>\n",
              "  <tbody>\n",
              "    <tr>\n",
              "      <th>69027</th>\n",
              "      <td>58.9225</td>\n",
              "      <td>1731.00</td>\n",
              "      <td>84.99</td>\n",
              "      <td>0.7425</td>\n",
              "      <td>22.75</td>\n",
              "      <td>0.0000</td>\n",
              "      <td>0.000</td>\n",
              "      <td>215.00</td>\n",
              "      <td>-58.9225</td>\n",
              "      <td>0.000000</td>\n",
              "      <td>...</td>\n",
              "      <td>0</td>\n",
              "      <td>0</td>\n",
              "      <td>0</td>\n",
              "      <td>0</td>\n",
              "      <td>1</td>\n",
              "      <td>1</td>\n",
              "      <td>0</td>\n",
              "      <td>0</td>\n",
              "      <td>0</td>\n",
              "      <td>1</td>\n",
              "    </tr>\n",
              "    <tr>\n",
              "      <th>10948</th>\n",
              "      <td>30.2375</td>\n",
              "      <td>61.50</td>\n",
              "      <td>29.99</td>\n",
              "      <td>0.2475</td>\n",
              "      <td>0.00</td>\n",
              "      <td>0.0000</td>\n",
              "      <td>0.000</td>\n",
              "      <td>-8.50</td>\n",
              "      <td>0.7425</td>\n",
              "      <td>4.666667</td>\n",
              "      <td>...</td>\n",
              "      <td>0</td>\n",
              "      <td>1</td>\n",
              "      <td>0</td>\n",
              "      <td>0</td>\n",
              "      <td>0</td>\n",
              "      <td>0</td>\n",
              "      <td>1</td>\n",
              "      <td>0</td>\n",
              "      <td>0</td>\n",
              "      <td>1</td>\n",
              "    </tr>\n",
              "    <tr>\n",
              "      <th>15402</th>\n",
              "      <td>40.8375</td>\n",
              "      <td>723.75</td>\n",
              "      <td>44.99</td>\n",
              "      <td>0.2475</td>\n",
              "      <td>14.00</td>\n",
              "      <td>0.0000</td>\n",
              "      <td>0.000</td>\n",
              "      <td>222.25</td>\n",
              "      <td>16.5525</td>\n",
              "      <td>21.333333</td>\n",
              "      <td>...</td>\n",
              "      <td>0</td>\n",
              "      <td>1</td>\n",
              "      <td>0</td>\n",
              "      <td>0</td>\n",
              "      <td>0</td>\n",
              "      <td>0</td>\n",
              "      <td>1</td>\n",
              "      <td>0</td>\n",
              "      <td>0</td>\n",
              "      <td>1</td>\n",
              "    </tr>\n",
              "    <tr>\n",
              "      <th>42463</th>\n",
              "      <td>154.1975</td>\n",
              "      <td>852.50</td>\n",
              "      <td>159.99</td>\n",
              "      <td>4.2075</td>\n",
              "      <td>0.00</td>\n",
              "      <td>0.0000</td>\n",
              "      <td>0.000</td>\n",
              "      <td>553.50</td>\n",
              "      <td>-1.2375</td>\n",
              "      <td>0.000000</td>\n",
              "      <td>...</td>\n",
              "      <td>0</td>\n",
              "      <td>0</td>\n",
              "      <td>0</td>\n",
              "      <td>0</td>\n",
              "      <td>0</td>\n",
              "      <td>0</td>\n",
              "      <td>0</td>\n",
              "      <td>1</td>\n",
              "      <td>0</td>\n",
              "      <td>1</td>\n",
              "    </tr>\n",
              "    <tr>\n",
              "      <th>26325</th>\n",
              "      <td>40.6900</td>\n",
              "      <td>156.75</td>\n",
              "      <td>42.49</td>\n",
              "      <td>0.0000</td>\n",
              "      <td>0.00</td>\n",
              "      <td>0.0000</td>\n",
              "      <td>0.320</td>\n",
              "      <td>113.25</td>\n",
              "      <td>0.9600</td>\n",
              "      <td>19.000000</td>\n",
              "      <td>...</td>\n",
              "      <td>0</td>\n",
              "      <td>1</td>\n",
              "      <td>0</td>\n",
              "      <td>0</td>\n",
              "      <td>0</td>\n",
              "      <td>0</td>\n",
              "      <td>0</td>\n",
              "      <td>0</td>\n",
              "      <td>1</td>\n",
              "      <td>0</td>\n",
              "    </tr>\n",
              "    <tr>\n",
              "      <th>...</th>\n",
              "      <td>...</td>\n",
              "      <td>...</td>\n",
              "      <td>...</td>\n",
              "      <td>...</td>\n",
              "      <td>...</td>\n",
              "      <td>...</td>\n",
              "      <td>...</td>\n",
              "      <td>...</td>\n",
              "      <td>...</td>\n",
              "      <td>...</td>\n",
              "      <td>...</td>\n",
              "      <td>...</td>\n",
              "      <td>...</td>\n",
              "      <td>...</td>\n",
              "      <td>...</td>\n",
              "      <td>...</td>\n",
              "      <td>...</td>\n",
              "      <td>...</td>\n",
              "      <td>...</td>\n",
              "      <td>...</td>\n",
              "      <td>...</td>\n",
              "    </tr>\n",
              "    <tr>\n",
              "      <th>54578</th>\n",
              "      <td>38.5475</td>\n",
              "      <td>166.25</td>\n",
              "      <td>54.99</td>\n",
              "      <td>0.7425</td>\n",
              "      <td>0.00</td>\n",
              "      <td>0.0000</td>\n",
              "      <td>0.000</td>\n",
              "      <td>67.75</td>\n",
              "      <td>-2.5675</td>\n",
              "      <td>13.000000</td>\n",
              "      <td>...</td>\n",
              "      <td>0</td>\n",
              "      <td>1</td>\n",
              "      <td>0</td>\n",
              "      <td>0</td>\n",
              "      <td>1</td>\n",
              "      <td>1</td>\n",
              "      <td>0</td>\n",
              "      <td>0</td>\n",
              "      <td>0</td>\n",
              "      <td>1</td>\n",
              "    </tr>\n",
              "    <tr>\n",
              "      <th>56760</th>\n",
              "      <td>17.1400</td>\n",
              "      <td>297.50</td>\n",
              "      <td>10.00</td>\n",
              "      <td>0.0000</td>\n",
              "      <td>0.00</td>\n",
              "      <td>0.0000</td>\n",
              "      <td>7.015</td>\n",
              "      <td>23.50</td>\n",
              "      <td>-7.1400</td>\n",
              "      <td>8.000000</td>\n",
              "      <td>...</td>\n",
              "      <td>0</td>\n",
              "      <td>0</td>\n",
              "      <td>0</td>\n",
              "      <td>0</td>\n",
              "      <td>0</td>\n",
              "      <td>1</td>\n",
              "      <td>0</td>\n",
              "      <td>0</td>\n",
              "      <td>0</td>\n",
              "      <td>0</td>\n",
              "    </tr>\n",
              "    <tr>\n",
              "      <th>80037</th>\n",
              "      <td>64.8750</td>\n",
              "      <td>1040.50</td>\n",
              "      <td>44.99</td>\n",
              "      <td>0.2475</td>\n",
              "      <td>73.25</td>\n",
              "      <td>0.0000</td>\n",
              "      <td>0.000</td>\n",
              "      <td>-361.50</td>\n",
              "      <td>-3.8350</td>\n",
              "      <td>54.000000</td>\n",
              "      <td>...</td>\n",
              "      <td>0</td>\n",
              "      <td>0</td>\n",
              "      <td>1</td>\n",
              "      <td>0</td>\n",
              "      <td>1</td>\n",
              "      <td>0</td>\n",
              "      <td>0</td>\n",
              "      <td>1</td>\n",
              "      <td>0</td>\n",
              "      <td>1</td>\n",
              "    </tr>\n",
              "    <tr>\n",
              "      <th>30727</th>\n",
              "      <td>40.8500</td>\n",
              "      <td>223.00</td>\n",
              "      <td>30.00</td>\n",
              "      <td>0.4950</td>\n",
              "      <td>29.00</td>\n",
              "      <td>0.0975</td>\n",
              "      <td>0.195</td>\n",
              "      <td>227.00</td>\n",
              "      <td>30.3900</td>\n",
              "      <td>11.666667</td>\n",
              "      <td>...</td>\n",
              "      <td>0</td>\n",
              "      <td>0</td>\n",
              "      <td>1</td>\n",
              "      <td>0</td>\n",
              "      <td>0</td>\n",
              "      <td>1</td>\n",
              "      <td>0</td>\n",
              "      <td>0</td>\n",
              "      <td>0</td>\n",
              "      <td>1</td>\n",
              "    </tr>\n",
              "    <tr>\n",
              "      <th>11590</th>\n",
              "      <td>53.8050</td>\n",
              "      <td>250.75</td>\n",
              "      <td>24.99</td>\n",
              "      <td>0.0000</td>\n",
              "      <td>76.00</td>\n",
              "      <td>0.0000</td>\n",
              "      <td>0.195</td>\n",
              "      <td>-40.75</td>\n",
              "      <td>11.1450</td>\n",
              "      <td>12.333333</td>\n",
              "      <td>...</td>\n",
              "      <td>0</td>\n",
              "      <td>0</td>\n",
              "      <td>0</td>\n",
              "      <td>0</td>\n",
              "      <td>0</td>\n",
              "      <td>0</td>\n",
              "      <td>0</td>\n",
              "      <td>0</td>\n",
              "      <td>1</td>\n",
              "      <td>0</td>\n",
              "    </tr>\n",
              "  </tbody>\n",
              "</table>\n",
              "<p>72000 rows × 111 columns</p>\n",
              "</div>\n",
              "      <button class=\"colab-df-convert\" onclick=\"convertToInteractive('df-fbc90038-1156-4c38-80e4-624375c750e6')\"\n",
              "              title=\"Convert this dataframe to an interactive table.\"\n",
              "              style=\"display:none;\">\n",
              "        \n",
              "  <svg xmlns=\"http://www.w3.org/2000/svg\" height=\"24px\"viewBox=\"0 0 24 24\"\n",
              "       width=\"24px\">\n",
              "    <path d=\"M0 0h24v24H0V0z\" fill=\"none\"/>\n",
              "    <path d=\"M18.56 5.44l.94 2.06.94-2.06 2.06-.94-2.06-.94-.94-2.06-.94 2.06-2.06.94zm-11 1L8.5 8.5l.94-2.06 2.06-.94-2.06-.94L8.5 2.5l-.94 2.06-2.06.94zm10 10l.94 2.06.94-2.06 2.06-.94-2.06-.94-.94-2.06-.94 2.06-2.06.94z\"/><path d=\"M17.41 7.96l-1.37-1.37c-.4-.4-.92-.59-1.43-.59-.52 0-1.04.2-1.43.59L10.3 9.45l-7.72 7.72c-.78.78-.78 2.05 0 2.83L4 21.41c.39.39.9.59 1.41.59.51 0 1.02-.2 1.41-.59l7.78-7.78 2.81-2.81c.8-.78.8-2.07 0-2.86zM5.41 20L4 18.59l7.72-7.72 1.47 1.35L5.41 20z\"/>\n",
              "  </svg>\n",
              "      </button>\n",
              "      \n",
              "  <style>\n",
              "    .colab-df-container {\n",
              "      display:flex;\n",
              "      flex-wrap:wrap;\n",
              "      gap: 12px;\n",
              "    }\n",
              "\n",
              "    .colab-df-convert {\n",
              "      background-color: #E8F0FE;\n",
              "      border: none;\n",
              "      border-radius: 50%;\n",
              "      cursor: pointer;\n",
              "      display: none;\n",
              "      fill: #1967D2;\n",
              "      height: 32px;\n",
              "      padding: 0 0 0 0;\n",
              "      width: 32px;\n",
              "    }\n",
              "\n",
              "    .colab-df-convert:hover {\n",
              "      background-color: #E2EBFA;\n",
              "      box-shadow: 0px 1px 2px rgba(60, 64, 67, 0.3), 0px 1px 3px 1px rgba(60, 64, 67, 0.15);\n",
              "      fill: #174EA6;\n",
              "    }\n",
              "\n",
              "    [theme=dark] .colab-df-convert {\n",
              "      background-color: #3B4455;\n",
              "      fill: #D2E3FC;\n",
              "    }\n",
              "\n",
              "    [theme=dark] .colab-df-convert:hover {\n",
              "      background-color: #434B5C;\n",
              "      box-shadow: 0px 1px 3px 1px rgba(0, 0, 0, 0.15);\n",
              "      filter: drop-shadow(0px 1px 2px rgba(0, 0, 0, 0.3));\n",
              "      fill: #FFFFFF;\n",
              "    }\n",
              "  </style>\n",
              "\n",
              "      <script>\n",
              "        const buttonEl =\n",
              "          document.querySelector('#df-fbc90038-1156-4c38-80e4-624375c750e6 button.colab-df-convert');\n",
              "        buttonEl.style.display =\n",
              "          google.colab.kernel.accessAllowed ? 'block' : 'none';\n",
              "\n",
              "        async function convertToInteractive(key) {\n",
              "          const element = document.querySelector('#df-fbc90038-1156-4c38-80e4-624375c750e6');\n",
              "          const dataTable =\n",
              "            await google.colab.kernel.invokeFunction('convertToInteractive',\n",
              "                                                     [key], {});\n",
              "          if (!dataTable) return;\n",
              "\n",
              "          const docLinkHtml = 'Like what you see? Visit the ' +\n",
              "            '<a target=\"_blank\" href=https://colab.research.google.com/notebooks/data_table.ipynb>data table notebook</a>'\n",
              "            + ' to learn more about interactive tables.';\n",
              "          element.innerHTML = '';\n",
              "          dataTable['output_type'] = 'display_data';\n",
              "          await google.colab.output.renderOutput(dataTable, element);\n",
              "          const docLink = document.createElement('div');\n",
              "          docLink.innerHTML = docLinkHtml;\n",
              "          element.appendChild(docLink);\n",
              "        }\n",
              "      </script>\n",
              "    </div>\n",
              "  </div>\n",
              "  "
            ]
          },
          "metadata": {},
          "execution_count": 19
        }
      ],
      "source": [
        "X_train"
      ]
    },
    {
      "cell_type": "code",
      "execution_count": null,
      "metadata": {
        "colab": {
          "base_uri": "https://localhost:8080/",
          "height": 236
        },
        "id": "gcRXN5m_j20e",
        "outputId": "8d4db469-88d4-4b8a-af3e-69079993f647"
      },
      "outputs": [
        {
          "data": {
            "text/html": [
              "\n",
              "  <div id=\"df-b2e0c116-026d-4a6c-a8b0-778e8beae788\">\n",
              "    <div class=\"colab-df-container\">\n",
              "      <div>\n",
              "<style scoped>\n",
              "    .dataframe tbody tr th:only-of-type {\n",
              "        vertical-align: middle;\n",
              "    }\n",
              "\n",
              "    .dataframe tbody tr th {\n",
              "        vertical-align: top;\n",
              "    }\n",
              "\n",
              "    .dataframe thead th {\n",
              "        text-align: right;\n",
              "    }\n",
              "</style>\n",
              "<table border=\"1\" class=\"dataframe\">\n",
              "  <thead>\n",
              "    <tr style=\"text-align: right;\">\n",
              "      <th></th>\n",
              "      <th>rev</th>\n",
              "      <th>mou</th>\n",
              "      <th>totmrc</th>\n",
              "      <th>da</th>\n",
              "      <th>ovrmou</th>\n",
              "      <th>datovr</th>\n",
              "      <th>roam</th>\n",
              "      <th>change_mou</th>\n",
              "      <th>change_rev</th>\n",
              "      <th>unan_vce</th>\n",
              "      <th>...</th>\n",
              "      <th>ethnic_R</th>\n",
              "      <th>ethnic_S</th>\n",
              "      <th>ethnic_U</th>\n",
              "      <th>ethnic_Z</th>\n",
              "      <th>creditcd_N</th>\n",
              "      <th>region_midwest</th>\n",
              "      <th>region_north</th>\n",
              "      <th>region_south</th>\n",
              "      <th>region_west</th>\n",
              "      <th>tiene_hijos_menores_U</th>\n",
              "    </tr>\n",
              "  </thead>\n",
              "  <tbody>\n",
              "    <tr>\n",
              "      <th>69027</th>\n",
              "      <td>0.012363</td>\n",
              "      <td>2.380686</td>\n",
              "      <td>1.675606</td>\n",
              "      <td>-0.064223</td>\n",
              "      <td>-0.184892</td>\n",
              "      <td>-0.077145</td>\n",
              "      <td>-0.079588</td>\n",
              "      <td>0.825939</td>\n",
              "      <td>-1.090178</td>\n",
              "      <td>-0.717950</td>\n",
              "      <td>...</td>\n",
              "      <td>-0.10246</td>\n",
              "      <td>-0.385487</td>\n",
              "      <td>-0.352882</td>\n",
              "      <td>-0.215277</td>\n",
              "      <td>1.535799</td>\n",
              "      <td>1.921161</td>\n",
              "      <td>-0.494308</td>\n",
              "      <td>-0.874994</td>\n",
              "      <td>-0.431283</td>\n",
              "      <td>0.554718</td>\n",
              "    </tr>\n",
              "    <tr>\n",
              "      <th>10948</th>\n",
              "      <td>-0.600821</td>\n",
              "      <td>-0.855755</td>\n",
              "      <td>-0.681399</td>\n",
              "      <td>-0.297160</td>\n",
              "      <td>-0.415922</td>\n",
              "      <td>-0.077145</td>\n",
              "      <td>-0.079588</td>\n",
              "      <td>0.017589</td>\n",
              "      <td>0.034185</td>\n",
              "      <td>-0.593049</td>\n",
              "      <td>...</td>\n",
              "      <td>-0.10246</td>\n",
              "      <td>2.594122</td>\n",
              "      <td>-0.352882</td>\n",
              "      <td>-0.215277</td>\n",
              "      <td>-0.651127</td>\n",
              "      <td>-0.520519</td>\n",
              "      <td>2.023032</td>\n",
              "      <td>-0.874994</td>\n",
              "      <td>-0.431283</td>\n",
              "      <td>0.554718</td>\n",
              "    </tr>\n",
              "    <tr>\n",
              "      <th>15402</th>\n",
              "      <td>-0.374230</td>\n",
              "      <td>0.428062</td>\n",
              "      <td>-0.038579</td>\n",
              "      <td>-0.297160</td>\n",
              "      <td>-0.273750</td>\n",
              "      <td>-0.077145</td>\n",
              "      <td>-0.079588</td>\n",
              "      <td>0.852161</td>\n",
              "      <td>0.332118</td>\n",
              "      <td>-0.146974</td>\n",
              "      <td>...</td>\n",
              "      <td>-0.10246</td>\n",
              "      <td>2.594122</td>\n",
              "      <td>-0.352882</td>\n",
              "      <td>-0.215277</td>\n",
              "      <td>-0.651127</td>\n",
              "      <td>-0.520519</td>\n",
              "      <td>2.023032</td>\n",
              "      <td>-0.874994</td>\n",
              "      <td>-0.431283</td>\n",
              "      <td>0.554718</td>\n",
              "    </tr>\n",
              "  </tbody>\n",
              "</table>\n",
              "<p>3 rows × 111 columns</p>\n",
              "</div>\n",
              "      <button class=\"colab-df-convert\" onclick=\"convertToInteractive('df-b2e0c116-026d-4a6c-a8b0-778e8beae788')\"\n",
              "              title=\"Convert this dataframe to an interactive table.\"\n",
              "              style=\"display:none;\">\n",
              "        \n",
              "  <svg xmlns=\"http://www.w3.org/2000/svg\" height=\"24px\"viewBox=\"0 0 24 24\"\n",
              "       width=\"24px\">\n",
              "    <path d=\"M0 0h24v24H0V0z\" fill=\"none\"/>\n",
              "    <path d=\"M18.56 5.44l.94 2.06.94-2.06 2.06-.94-2.06-.94-.94-2.06-.94 2.06-2.06.94zm-11 1L8.5 8.5l.94-2.06 2.06-.94-2.06-.94L8.5 2.5l-.94 2.06-2.06.94zm10 10l.94 2.06.94-2.06 2.06-.94-2.06-.94-.94-2.06-.94 2.06-2.06.94z\"/><path d=\"M17.41 7.96l-1.37-1.37c-.4-.4-.92-.59-1.43-.59-.52 0-1.04.2-1.43.59L10.3 9.45l-7.72 7.72c-.78.78-.78 2.05 0 2.83L4 21.41c.39.39.9.59 1.41.59.51 0 1.02-.2 1.41-.59l7.78-7.78 2.81-2.81c.8-.78.8-2.07 0-2.86zM5.41 20L4 18.59l7.72-7.72 1.47 1.35L5.41 20z\"/>\n",
              "  </svg>\n",
              "      </button>\n",
              "      \n",
              "  <style>\n",
              "    .colab-df-container {\n",
              "      display:flex;\n",
              "      flex-wrap:wrap;\n",
              "      gap: 12px;\n",
              "    }\n",
              "\n",
              "    .colab-df-convert {\n",
              "      background-color: #E8F0FE;\n",
              "      border: none;\n",
              "      border-radius: 50%;\n",
              "      cursor: pointer;\n",
              "      display: none;\n",
              "      fill: #1967D2;\n",
              "      height: 32px;\n",
              "      padding: 0 0 0 0;\n",
              "      width: 32px;\n",
              "    }\n",
              "\n",
              "    .colab-df-convert:hover {\n",
              "      background-color: #E2EBFA;\n",
              "      box-shadow: 0px 1px 2px rgba(60, 64, 67, 0.3), 0px 1px 3px 1px rgba(60, 64, 67, 0.15);\n",
              "      fill: #174EA6;\n",
              "    }\n",
              "\n",
              "    [theme=dark] .colab-df-convert {\n",
              "      background-color: #3B4455;\n",
              "      fill: #D2E3FC;\n",
              "    }\n",
              "\n",
              "    [theme=dark] .colab-df-convert:hover {\n",
              "      background-color: #434B5C;\n",
              "      box-shadow: 0px 1px 3px 1px rgba(0, 0, 0, 0.15);\n",
              "      filter: drop-shadow(0px 1px 2px rgba(0, 0, 0, 0.3));\n",
              "      fill: #FFFFFF;\n",
              "    }\n",
              "  </style>\n",
              "\n",
              "      <script>\n",
              "        const buttonEl =\n",
              "          document.querySelector('#df-b2e0c116-026d-4a6c-a8b0-778e8beae788 button.colab-df-convert');\n",
              "        buttonEl.style.display =\n",
              "          google.colab.kernel.accessAllowed ? 'block' : 'none';\n",
              "\n",
              "        async function convertToInteractive(key) {\n",
              "          const element = document.querySelector('#df-b2e0c116-026d-4a6c-a8b0-778e8beae788');\n",
              "          const dataTable =\n",
              "            await google.colab.kernel.invokeFunction('convertToInteractive',\n",
              "                                                     [key], {});\n",
              "          if (!dataTable) return;\n",
              "\n",
              "          const docLinkHtml = 'Like what you see? Visit the ' +\n",
              "            '<a target=\"_blank\" href=https://colab.research.google.com/notebooks/data_table.ipynb>data table notebook</a>'\n",
              "            + ' to learn more about interactive tables.';\n",
              "          element.innerHTML = '';\n",
              "          dataTable['output_type'] = 'display_data';\n",
              "          await google.colab.output.renderOutput(dataTable, element);\n",
              "          const docLink = document.createElement('div');\n",
              "          docLink.innerHTML = docLinkHtml;\n",
              "          element.appendChild(docLink);\n",
              "        }\n",
              "      </script>\n",
              "    </div>\n",
              "  </div>\n",
              "  "
            ],
            "text/plain": [
              "            rev       mou    totmrc        da    ovrmou    datovr      roam  \\\n",
              "69027  0.012363  2.380686  1.675606 -0.064223 -0.184892 -0.077145 -0.079588   \n",
              "10948 -0.600821 -0.855755 -0.681399 -0.297160 -0.415922 -0.077145 -0.079588   \n",
              "15402 -0.374230  0.428062 -0.038579 -0.297160 -0.273750 -0.077145 -0.079588   \n",
              "\n",
              "       change_mou  change_rev  unan_vce  ...  ethnic_R  ethnic_S  ethnic_U  \\\n",
              "69027    0.825939   -1.090178 -0.717950  ...  -0.10246 -0.385487 -0.352882   \n",
              "10948    0.017589    0.034185 -0.593049  ...  -0.10246  2.594122 -0.352882   \n",
              "15402    0.852161    0.332118 -0.146974  ...  -0.10246  2.594122 -0.352882   \n",
              "\n",
              "       ethnic_Z  creditcd_N  region_midwest  region_north  region_south  \\\n",
              "69027 -0.215277    1.535799        1.921161     -0.494308     -0.874994   \n",
              "10948 -0.215277   -0.651127       -0.520519      2.023032     -0.874994   \n",
              "15402 -0.215277   -0.651127       -0.520519      2.023032     -0.874994   \n",
              "\n",
              "       region_west  tiene_hijos_menores_U  \n",
              "69027    -0.431283               0.554718  \n",
              "10948    -0.431283               0.554718  \n",
              "15402    -0.431283               0.554718  \n",
              "\n",
              "[3 rows x 111 columns]"
            ]
          },
          "execution_count": 67,
          "metadata": {},
          "output_type": "execute_result"
        }
      ],
      "source": [
        "X_train_std.head(3)"
      ]
    },
    {
      "cell_type": "markdown",
      "metadata": {
        "id": "a_IeZDdxqntl"
      },
      "source": [
        "# TRAIN-VALIDATION"
      ]
    },
    {
      "cell_type": "code",
      "execution_count": 20,
      "metadata": {
        "id": "drk-nEkAkZnR"
      },
      "outputs": [],
      "source": [
        "from sklearn.model_selection import cross_val_score\n",
        "from sklearn.metrics import roc_auc_score"
      ]
    },
    {
      "cell_type": "code",
      "execution_count": 21,
      "metadata": {
        "id": "RgYs7KjFkZWC"
      },
      "outputs": [],
      "source": [
        "# Calculo del AUC de un modelo sobre un dataset (X-y). Args: modelo a validar, X, y\n",
        "def auc(model,X,y):\n",
        "  model.fit(X,y)\n",
        "  return roc_auc_score(y,model.predict_proba(X)[:,1])  \n",
        "\n",
        "# Calculo del AUC de un modelo sobre un dataset con Cross-Validation (X-y). Args: modelo a validar, X, y  \n",
        "def auc_cross_validation(model,X,y):\n",
        "  cross_val = cross_val_score(model, \n",
        "                              X, y, \n",
        "                              cv=4,                 # Numero de folds que vamos a utilizar para validar \n",
        "                              scoring='roc_auc'     # La metrica de validacion que se medira en cada train-valida\n",
        "                              )    \n",
        "  return cross_val.mean()"
      ]
    },
    {
      "cell_type": "code",
      "execution_count": null,
      "metadata": {
        "colab": {
          "base_uri": "https://localhost:8080/"
        },
        "id": "eiDclWaZz98x",
        "outputId": "209e81ff-22c1-4de9-c77b-565948795c26"
      },
      "outputs": [
        {
          "name": "stdout",
          "output_type": "stream",
          "text": [
            "Ranking de importancia de variables:\n",
            "1. Variable 51 (0.055877)\n",
            "2. Variable 7 (0.041219)\n",
            "3. Variable 1 (0.036543)\n",
            "4. Variable 8 (0.035942)\n",
            "5. Variable 0 (0.031966)\n",
            "6. Variable 37 (0.029537)\n",
            "7. Variable 32 (0.029385)\n",
            "8. Variable 38 (0.029027)\n",
            "9. Variable 36 (0.027797)\n",
            "10. Variable 39 (0.026638)\n",
            "11. Variable 29 (0.026385)\n",
            "12. Variable 35 (0.026270)\n",
            "13. Variable 9 (0.025536)\n",
            "14. Variable 18 (0.024176)\n",
            "15. Variable 40 (0.022495)\n",
            "16. Variable 2 (0.022147)\n",
            "17. Variable 25 (0.022132)\n",
            "18. Variable 24 (0.022061)\n",
            "19. Variable 22 (0.022036)\n",
            "20. Variable 20 (0.021699)\n",
            "21. Variable 28 (0.020882)\n",
            "22. Variable 27 (0.020814)\n",
            "23. Variable 21 (0.020195)\n",
            "24. Variable 13 (0.020079)\n",
            "25. Variable 4 (0.018969)\n",
            "26. Variable 11 (0.018542)\n",
            "27. Variable 46 (0.016397)\n",
            "28. Variable 41 (0.014825)\n",
            "29. Variable 6 (0.014475)\n",
            "30. Variable 23 (0.014446)\n",
            "31. Variable 16 (0.012944)\n",
            "32. Variable 3 (0.012539)\n",
            "33. Variable 48 (0.010813)\n",
            "34. Variable 47 (0.010538)\n",
            "35. Variable 31 (0.010215)\n",
            "36. Variable 15 (0.009373)\n",
            "37. Variable 17 (0.007245)\n",
            "38. Variable 49 (0.006522)\n",
            "39. Variable 42 (0.006298)\n",
            "40. Variable 33 (0.005799)\n",
            "41. Variable 43 (0.004127)\n",
            "42. Variable 5 (0.004082)\n",
            "43. Variable 34 (0.003800)\n",
            "44. Variable 63 (0.003749)\n",
            "45. Variable 19 (0.003657)\n",
            "46. Variable 81 (0.003652)\n",
            "47. Variable 99 (0.003579)\n",
            "48. Variable 12 (0.003573)\n",
            "49. Variable 66 (0.003497)\n",
            "50. Variable 82 (0.003299)\n",
            "51. Variable 102 (0.003063)\n",
            "52. Variable 59 (0.003011)\n",
            "53. Variable 106 (0.002865)\n",
            "54. Variable 103 (0.002783)\n",
            "55. Variable 96 (0.002782)\n",
            "56. Variable 53 (0.002753)\n",
            "57. Variable 107 (0.002714)\n",
            "58. Variable 105 (0.002706)\n",
            "59. Variable 104 (0.002607)\n",
            "60. Variable 69 (0.002602)\n",
            "61. Variable 57 (0.002542)\n",
            "62. Variable 95 (0.002505)\n",
            "63. Variable 80 (0.002462)\n",
            "64. Variable 26 (0.002386)\n",
            "65. Variable 68 (0.002354)\n",
            "66. Variable 108 (0.002328)\n",
            "67. Variable 85 (0.002317)\n",
            "68. Variable 61 (0.002283)\n",
            "69. Variable 110 (0.002279)\n",
            "70. Variable 65 (0.002270)\n",
            "71. Variable 44 (0.002227)\n",
            "72. Variable 74 (0.002226)\n",
            "73. Variable 87 (0.002207)\n",
            "74. Variable 75 (0.002194)\n",
            "75. Variable 77 (0.002159)\n",
            "76. Variable 83 (0.002154)\n",
            "77. Variable 109 (0.002131)\n",
            "78. Variable 88 (0.002123)\n",
            "79. Variable 79 (0.002060)\n",
            "80. Variable 67 (0.002045)\n",
            "81. Variable 100 (0.001902)\n",
            "82. Variable 54 (0.001897)\n",
            "83. Variable 73 (0.001816)\n",
            "84. Variable 97 (0.001811)\n",
            "85. Variable 78 (0.001783)\n",
            "86. Variable 50 (0.001764)\n",
            "87. Variable 98 (0.001737)\n",
            "88. Variable 55 (0.001710)\n",
            "89. Variable 84 (0.001677)\n",
            "90. Variable 58 (0.001647)\n",
            "91. Variable 56 (0.001612)\n",
            "92. Variable 62 (0.001570)\n",
            "93. Variable 45 (0.001566)\n",
            "94. Variable 71 (0.001566)\n",
            "95. Variable 70 (0.001558)\n",
            "96. Variable 89 (0.001352)\n",
            "97. Variable 94 (0.001186)\n",
            "98. Variable 10 (0.001154)\n",
            "99. Variable 76 (0.001148)\n",
            "100. Variable 64 (0.001142)\n",
            "101. Variable 86 (0.000917)\n",
            "102. Variable 60 (0.000876)\n",
            "103. Variable 92 (0.000857)\n",
            "104. Variable 101 (0.000801)\n",
            "105. Variable 90 (0.000784)\n",
            "106. Variable 93 (0.000743)\n",
            "107. Variable 72 (0.000707)\n",
            "108. Variable 14 (0.000670)\n",
            "109. Variable 91 (0.000576)\n",
            "110. Variable 30 (0.000366)\n",
            "111. Variable 52 (0.000174)\n"
          ]
        }
      ],
      "source": [
        "from sklearn.tree import DecisionTreeClassifier\n",
        "\n",
        "# Crear un clasificador de árbol de decisión\n",
        "clf = DecisionTreeClassifier(random_state=0)\n",
        "\n",
        "# Entrenar el clasificador con los datos\n",
        "clf.fit(X_train, y_train)\n",
        "\n",
        "# Obtener la importancia de las variables\n",
        "importances = clf.feature_importances_\n",
        "\n",
        "# Ordenar las importancias de mayor a menor\n",
        "indices = np.argsort(importances)[::-1]\n",
        "\n",
        "# Imprimir el ranking de importancia de las variables\n",
        "print(\"Ranking de importancia de variables:\")\n",
        "for f in range(X_train.shape[1]):\n",
        "    print(\"%d. Variable %d (%f)\" % (f + 1, indices[f], importances[indices[f]]))"
      ]
    },
    {
      "cell_type": "code",
      "execution_count": 22,
      "metadata": {
        "id": "t0F_adNemOJL"
      },
      "outputs": [],
      "source": [
        "# Inicializa resultados\n",
        "label_, auc_train_ , auc_valida_ = [], [], []\n",
        "\n",
        "# Completa un registro en dataframe con los resultados de las funciones definidas previsamente ( AUC y AUC con cross-validation)\n",
        "\n",
        "# Inputs: \n",
        "#   * modelo\n",
        "#   * (X,y) \n",
        "#   * label especifico si queremos registrar el resultado con otro nombre (opcional)\n",
        "\n",
        "\n",
        "def evaluate_classification(model, X, y, label=None):\n",
        "  if label is None:\n",
        "    label=str(model)\n",
        "  label_.append(label)\n",
        "  \n",
        "  auc_train = auc(model,X,y)\n",
        "  auc_valida = auc_cross_validation(model,X,y)   \n",
        "  auc_train_.append(auc_train)\n",
        "  auc_valida_.append(auc_valida)\n",
        "\n",
        "  return pd.DataFrame({'Model': label_,\n",
        "                      'AUC Train': auc_train_,\n",
        "                      'AUC Cross-Valida': auc_valida_\n",
        "                      }).sort_values('AUC Cross-Valida',ascending=False)"
      ]
    },
    {
      "cell_type": "markdown",
      "metadata": {
        "id": "9_cVOcePkmJM"
      },
      "source": [
        "## Model Competition"
      ]
    },
    {
      "cell_type": "markdown",
      "metadata": {
        "id": "r1HgYzscP9Bs"
      },
      "source": [
        "Probamos una colección de modelos con el objetivo de conseguir el mejor rendimiento del modelo en los datos de VALIDACION."
      ]
    },
    {
      "cell_type": "code",
      "execution_count": 23,
      "metadata": {
        "colab": {
          "base_uri": "https://localhost:8080/",
          "height": 81
        },
        "id": "kzltwsMkmCVo",
        "outputId": "ad7c32d9-5a8e-4d41-eb86-56d3247d4f28"
      },
      "outputs": [
        {
          "output_type": "execute_result",
          "data": {
            "text/plain": [
              "                  Model  AUC Train  AUC Cross-Valida\n",
              "0  LogisticRegression()   0.626643          0.622135"
            ],
            "text/html": [
              "\n",
              "  <div id=\"df-4e253bdd-5426-4a7a-a545-ffe392e61de0\">\n",
              "    <div class=\"colab-df-container\">\n",
              "      <div>\n",
              "<style scoped>\n",
              "    .dataframe tbody tr th:only-of-type {\n",
              "        vertical-align: middle;\n",
              "    }\n",
              "\n",
              "    .dataframe tbody tr th {\n",
              "        vertical-align: top;\n",
              "    }\n",
              "\n",
              "    .dataframe thead th {\n",
              "        text-align: right;\n",
              "    }\n",
              "</style>\n",
              "<table border=\"1\" class=\"dataframe\">\n",
              "  <thead>\n",
              "    <tr style=\"text-align: right;\">\n",
              "      <th></th>\n",
              "      <th>Model</th>\n",
              "      <th>AUC Train</th>\n",
              "      <th>AUC Cross-Valida</th>\n",
              "    </tr>\n",
              "  </thead>\n",
              "  <tbody>\n",
              "    <tr>\n",
              "      <th>0</th>\n",
              "      <td>LogisticRegression()</td>\n",
              "      <td>0.626643</td>\n",
              "      <td>0.622135</td>\n",
              "    </tr>\n",
              "  </tbody>\n",
              "</table>\n",
              "</div>\n",
              "      <button class=\"colab-df-convert\" onclick=\"convertToInteractive('df-4e253bdd-5426-4a7a-a545-ffe392e61de0')\"\n",
              "              title=\"Convert this dataframe to an interactive table.\"\n",
              "              style=\"display:none;\">\n",
              "        \n",
              "  <svg xmlns=\"http://www.w3.org/2000/svg\" height=\"24px\"viewBox=\"0 0 24 24\"\n",
              "       width=\"24px\">\n",
              "    <path d=\"M0 0h24v24H0V0z\" fill=\"none\"/>\n",
              "    <path d=\"M18.56 5.44l.94 2.06.94-2.06 2.06-.94-2.06-.94-.94-2.06-.94 2.06-2.06.94zm-11 1L8.5 8.5l.94-2.06 2.06-.94-2.06-.94L8.5 2.5l-.94 2.06-2.06.94zm10 10l.94 2.06.94-2.06 2.06-.94-2.06-.94-.94-2.06-.94 2.06-2.06.94z\"/><path d=\"M17.41 7.96l-1.37-1.37c-.4-.4-.92-.59-1.43-.59-.52 0-1.04.2-1.43.59L10.3 9.45l-7.72 7.72c-.78.78-.78 2.05 0 2.83L4 21.41c.39.39.9.59 1.41.59.51 0 1.02-.2 1.41-.59l7.78-7.78 2.81-2.81c.8-.78.8-2.07 0-2.86zM5.41 20L4 18.59l7.72-7.72 1.47 1.35L5.41 20z\"/>\n",
              "  </svg>\n",
              "      </button>\n",
              "      \n",
              "  <style>\n",
              "    .colab-df-container {\n",
              "      display:flex;\n",
              "      flex-wrap:wrap;\n",
              "      gap: 12px;\n",
              "    }\n",
              "\n",
              "    .colab-df-convert {\n",
              "      background-color: #E8F0FE;\n",
              "      border: none;\n",
              "      border-radius: 50%;\n",
              "      cursor: pointer;\n",
              "      display: none;\n",
              "      fill: #1967D2;\n",
              "      height: 32px;\n",
              "      padding: 0 0 0 0;\n",
              "      width: 32px;\n",
              "    }\n",
              "\n",
              "    .colab-df-convert:hover {\n",
              "      background-color: #E2EBFA;\n",
              "      box-shadow: 0px 1px 2px rgba(60, 64, 67, 0.3), 0px 1px 3px 1px rgba(60, 64, 67, 0.15);\n",
              "      fill: #174EA6;\n",
              "    }\n",
              "\n",
              "    [theme=dark] .colab-df-convert {\n",
              "      background-color: #3B4455;\n",
              "      fill: #D2E3FC;\n",
              "    }\n",
              "\n",
              "    [theme=dark] .colab-df-convert:hover {\n",
              "      background-color: #434B5C;\n",
              "      box-shadow: 0px 1px 3px 1px rgba(0, 0, 0, 0.15);\n",
              "      filter: drop-shadow(0px 1px 2px rgba(0, 0, 0, 0.3));\n",
              "      fill: #FFFFFF;\n",
              "    }\n",
              "  </style>\n",
              "\n",
              "      <script>\n",
              "        const buttonEl =\n",
              "          document.querySelector('#df-4e253bdd-5426-4a7a-a545-ffe392e61de0 button.colab-df-convert');\n",
              "        buttonEl.style.display =\n",
              "          google.colab.kernel.accessAllowed ? 'block' : 'none';\n",
              "\n",
              "        async function convertToInteractive(key) {\n",
              "          const element = document.querySelector('#df-4e253bdd-5426-4a7a-a545-ffe392e61de0');\n",
              "          const dataTable =\n",
              "            await google.colab.kernel.invokeFunction('convertToInteractive',\n",
              "                                                     [key], {});\n",
              "          if (!dataTable) return;\n",
              "\n",
              "          const docLinkHtml = 'Like what you see? Visit the ' +\n",
              "            '<a target=\"_blank\" href=https://colab.research.google.com/notebooks/data_table.ipynb>data table notebook</a>'\n",
              "            + ' to learn more about interactive tables.';\n",
              "          element.innerHTML = '';\n",
              "          dataTable['output_type'] = 'display_data';\n",
              "          await google.colab.output.renderOutput(dataTable, element);\n",
              "          const docLink = document.createElement('div');\n",
              "          docLink.innerHTML = docLinkHtml;\n",
              "          element.appendChild(docLink);\n",
              "        }\n",
              "      </script>\n",
              "    </div>\n",
              "  </div>\n",
              "  "
            ]
          },
          "metadata": {},
          "execution_count": 23
        }
      ],
      "source": [
        "from sklearn.linear_model import LogisticRegression\n",
        "\n",
        "evaluate_classification(model = LogisticRegression(), \n",
        "                        X = X_train_std, \n",
        "                        y = y_train)"
      ]
    },
    {
      "cell_type": "code",
      "execution_count": 24,
      "metadata": {
        "colab": {
          "base_uri": "https://localhost:8080/",
          "height": 112
        },
        "id": "0udNP8jlmCTD",
        "outputId": "67daa004-f5e3-4f6d-d0bf-3024c27d47f5"
      },
      "outputs": [
        {
          "output_type": "execute_result",
          "data": {
            "text/plain": [
              "                  Model  AUC Train  AUC Cross-Valida\n",
              "1  AdaBoostClassifier()   0.663378          0.656281\n",
              "0  LogisticRegression()   0.626643          0.622135"
            ],
            "text/html": [
              "\n",
              "  <div id=\"df-fb35522f-bfe5-4940-a646-cff0050d4cbe\">\n",
              "    <div class=\"colab-df-container\">\n",
              "      <div>\n",
              "<style scoped>\n",
              "    .dataframe tbody tr th:only-of-type {\n",
              "        vertical-align: middle;\n",
              "    }\n",
              "\n",
              "    .dataframe tbody tr th {\n",
              "        vertical-align: top;\n",
              "    }\n",
              "\n",
              "    .dataframe thead th {\n",
              "        text-align: right;\n",
              "    }\n",
              "</style>\n",
              "<table border=\"1\" class=\"dataframe\">\n",
              "  <thead>\n",
              "    <tr style=\"text-align: right;\">\n",
              "      <th></th>\n",
              "      <th>Model</th>\n",
              "      <th>AUC Train</th>\n",
              "      <th>AUC Cross-Valida</th>\n",
              "    </tr>\n",
              "  </thead>\n",
              "  <tbody>\n",
              "    <tr>\n",
              "      <th>1</th>\n",
              "      <td>AdaBoostClassifier()</td>\n",
              "      <td>0.663378</td>\n",
              "      <td>0.656281</td>\n",
              "    </tr>\n",
              "    <tr>\n",
              "      <th>0</th>\n",
              "      <td>LogisticRegression()</td>\n",
              "      <td>0.626643</td>\n",
              "      <td>0.622135</td>\n",
              "    </tr>\n",
              "  </tbody>\n",
              "</table>\n",
              "</div>\n",
              "      <button class=\"colab-df-convert\" onclick=\"convertToInteractive('df-fb35522f-bfe5-4940-a646-cff0050d4cbe')\"\n",
              "              title=\"Convert this dataframe to an interactive table.\"\n",
              "              style=\"display:none;\">\n",
              "        \n",
              "  <svg xmlns=\"http://www.w3.org/2000/svg\" height=\"24px\"viewBox=\"0 0 24 24\"\n",
              "       width=\"24px\">\n",
              "    <path d=\"M0 0h24v24H0V0z\" fill=\"none\"/>\n",
              "    <path d=\"M18.56 5.44l.94 2.06.94-2.06 2.06-.94-2.06-.94-.94-2.06-.94 2.06-2.06.94zm-11 1L8.5 8.5l.94-2.06 2.06-.94-2.06-.94L8.5 2.5l-.94 2.06-2.06.94zm10 10l.94 2.06.94-2.06 2.06-.94-2.06-.94-.94-2.06-.94 2.06-2.06.94z\"/><path d=\"M17.41 7.96l-1.37-1.37c-.4-.4-.92-.59-1.43-.59-.52 0-1.04.2-1.43.59L10.3 9.45l-7.72 7.72c-.78.78-.78 2.05 0 2.83L4 21.41c.39.39.9.59 1.41.59.51 0 1.02-.2 1.41-.59l7.78-7.78 2.81-2.81c.8-.78.8-2.07 0-2.86zM5.41 20L4 18.59l7.72-7.72 1.47 1.35L5.41 20z\"/>\n",
              "  </svg>\n",
              "      </button>\n",
              "      \n",
              "  <style>\n",
              "    .colab-df-container {\n",
              "      display:flex;\n",
              "      flex-wrap:wrap;\n",
              "      gap: 12px;\n",
              "    }\n",
              "\n",
              "    .colab-df-convert {\n",
              "      background-color: #E8F0FE;\n",
              "      border: none;\n",
              "      border-radius: 50%;\n",
              "      cursor: pointer;\n",
              "      display: none;\n",
              "      fill: #1967D2;\n",
              "      height: 32px;\n",
              "      padding: 0 0 0 0;\n",
              "      width: 32px;\n",
              "    }\n",
              "\n",
              "    .colab-df-convert:hover {\n",
              "      background-color: #E2EBFA;\n",
              "      box-shadow: 0px 1px 2px rgba(60, 64, 67, 0.3), 0px 1px 3px 1px rgba(60, 64, 67, 0.15);\n",
              "      fill: #174EA6;\n",
              "    }\n",
              "\n",
              "    [theme=dark] .colab-df-convert {\n",
              "      background-color: #3B4455;\n",
              "      fill: #D2E3FC;\n",
              "    }\n",
              "\n",
              "    [theme=dark] .colab-df-convert:hover {\n",
              "      background-color: #434B5C;\n",
              "      box-shadow: 0px 1px 3px 1px rgba(0, 0, 0, 0.15);\n",
              "      filter: drop-shadow(0px 1px 2px rgba(0, 0, 0, 0.3));\n",
              "      fill: #FFFFFF;\n",
              "    }\n",
              "  </style>\n",
              "\n",
              "      <script>\n",
              "        const buttonEl =\n",
              "          document.querySelector('#df-fb35522f-bfe5-4940-a646-cff0050d4cbe button.colab-df-convert');\n",
              "        buttonEl.style.display =\n",
              "          google.colab.kernel.accessAllowed ? 'block' : 'none';\n",
              "\n",
              "        async function convertToInteractive(key) {\n",
              "          const element = document.querySelector('#df-fb35522f-bfe5-4940-a646-cff0050d4cbe');\n",
              "          const dataTable =\n",
              "            await google.colab.kernel.invokeFunction('convertToInteractive',\n",
              "                                                     [key], {});\n",
              "          if (!dataTable) return;\n",
              "\n",
              "          const docLinkHtml = 'Like what you see? Visit the ' +\n",
              "            '<a target=\"_blank\" href=https://colab.research.google.com/notebooks/data_table.ipynb>data table notebook</a>'\n",
              "            + ' to learn more about interactive tables.';\n",
              "          element.innerHTML = '';\n",
              "          dataTable['output_type'] = 'display_data';\n",
              "          await google.colab.output.renderOutput(dataTable, element);\n",
              "          const docLink = document.createElement('div');\n",
              "          docLink.innerHTML = docLinkHtml;\n",
              "          element.appendChild(docLink);\n",
              "        }\n",
              "      </script>\n",
              "    </div>\n",
              "  </div>\n",
              "  "
            ]
          },
          "metadata": {},
          "execution_count": 24
        }
      ],
      "source": [
        "from sklearn.ensemble import AdaBoostClassifier\n",
        "\n",
        "evaluate_classification(model = AdaBoostClassifier(), X = X_train, y = y_train)"
      ]
    },
    {
      "cell_type": "code",
      "execution_count": 25,
      "metadata": {
        "colab": {
          "base_uri": "https://localhost:8080/",
          "height": 143
        },
        "id": "1cqehv__mCQC",
        "outputId": "4e24c39a-87f7-4796-c8ed-3d3b9077d341"
      },
      "outputs": [
        {
          "output_type": "execute_result",
          "data": {
            "text/plain": [
              "                  Model  AUC Train  AUC Cross-Valida\n",
              "1  AdaBoostClassifier()   0.663378          0.656281\n",
              "0  LogisticRegression()   0.626643          0.622135\n",
              "2   BaggingClassifier()   0.998928          0.615698"
            ],
            "text/html": [
              "\n",
              "  <div id=\"df-a421a397-0ec8-432b-a110-06af350f1a67\">\n",
              "    <div class=\"colab-df-container\">\n",
              "      <div>\n",
              "<style scoped>\n",
              "    .dataframe tbody tr th:only-of-type {\n",
              "        vertical-align: middle;\n",
              "    }\n",
              "\n",
              "    .dataframe tbody tr th {\n",
              "        vertical-align: top;\n",
              "    }\n",
              "\n",
              "    .dataframe thead th {\n",
              "        text-align: right;\n",
              "    }\n",
              "</style>\n",
              "<table border=\"1\" class=\"dataframe\">\n",
              "  <thead>\n",
              "    <tr style=\"text-align: right;\">\n",
              "      <th></th>\n",
              "      <th>Model</th>\n",
              "      <th>AUC Train</th>\n",
              "      <th>AUC Cross-Valida</th>\n",
              "    </tr>\n",
              "  </thead>\n",
              "  <tbody>\n",
              "    <tr>\n",
              "      <th>1</th>\n",
              "      <td>AdaBoostClassifier()</td>\n",
              "      <td>0.663378</td>\n",
              "      <td>0.656281</td>\n",
              "    </tr>\n",
              "    <tr>\n",
              "      <th>0</th>\n",
              "      <td>LogisticRegression()</td>\n",
              "      <td>0.626643</td>\n",
              "      <td>0.622135</td>\n",
              "    </tr>\n",
              "    <tr>\n",
              "      <th>2</th>\n",
              "      <td>BaggingClassifier()</td>\n",
              "      <td>0.998928</td>\n",
              "      <td>0.615698</td>\n",
              "    </tr>\n",
              "  </tbody>\n",
              "</table>\n",
              "</div>\n",
              "      <button class=\"colab-df-convert\" onclick=\"convertToInteractive('df-a421a397-0ec8-432b-a110-06af350f1a67')\"\n",
              "              title=\"Convert this dataframe to an interactive table.\"\n",
              "              style=\"display:none;\">\n",
              "        \n",
              "  <svg xmlns=\"http://www.w3.org/2000/svg\" height=\"24px\"viewBox=\"0 0 24 24\"\n",
              "       width=\"24px\">\n",
              "    <path d=\"M0 0h24v24H0V0z\" fill=\"none\"/>\n",
              "    <path d=\"M18.56 5.44l.94 2.06.94-2.06 2.06-.94-2.06-.94-.94-2.06-.94 2.06-2.06.94zm-11 1L8.5 8.5l.94-2.06 2.06-.94-2.06-.94L8.5 2.5l-.94 2.06-2.06.94zm10 10l.94 2.06.94-2.06 2.06-.94-2.06-.94-.94-2.06-.94 2.06-2.06.94z\"/><path d=\"M17.41 7.96l-1.37-1.37c-.4-.4-.92-.59-1.43-.59-.52 0-1.04.2-1.43.59L10.3 9.45l-7.72 7.72c-.78.78-.78 2.05 0 2.83L4 21.41c.39.39.9.59 1.41.59.51 0 1.02-.2 1.41-.59l7.78-7.78 2.81-2.81c.8-.78.8-2.07 0-2.86zM5.41 20L4 18.59l7.72-7.72 1.47 1.35L5.41 20z\"/>\n",
              "  </svg>\n",
              "      </button>\n",
              "      \n",
              "  <style>\n",
              "    .colab-df-container {\n",
              "      display:flex;\n",
              "      flex-wrap:wrap;\n",
              "      gap: 12px;\n",
              "    }\n",
              "\n",
              "    .colab-df-convert {\n",
              "      background-color: #E8F0FE;\n",
              "      border: none;\n",
              "      border-radius: 50%;\n",
              "      cursor: pointer;\n",
              "      display: none;\n",
              "      fill: #1967D2;\n",
              "      height: 32px;\n",
              "      padding: 0 0 0 0;\n",
              "      width: 32px;\n",
              "    }\n",
              "\n",
              "    .colab-df-convert:hover {\n",
              "      background-color: #E2EBFA;\n",
              "      box-shadow: 0px 1px 2px rgba(60, 64, 67, 0.3), 0px 1px 3px 1px rgba(60, 64, 67, 0.15);\n",
              "      fill: #174EA6;\n",
              "    }\n",
              "\n",
              "    [theme=dark] .colab-df-convert {\n",
              "      background-color: #3B4455;\n",
              "      fill: #D2E3FC;\n",
              "    }\n",
              "\n",
              "    [theme=dark] .colab-df-convert:hover {\n",
              "      background-color: #434B5C;\n",
              "      box-shadow: 0px 1px 3px 1px rgba(0, 0, 0, 0.15);\n",
              "      filter: drop-shadow(0px 1px 2px rgba(0, 0, 0, 0.3));\n",
              "      fill: #FFFFFF;\n",
              "    }\n",
              "  </style>\n",
              "\n",
              "      <script>\n",
              "        const buttonEl =\n",
              "          document.querySelector('#df-a421a397-0ec8-432b-a110-06af350f1a67 button.colab-df-convert');\n",
              "        buttonEl.style.display =\n",
              "          google.colab.kernel.accessAllowed ? 'block' : 'none';\n",
              "\n",
              "        async function convertToInteractive(key) {\n",
              "          const element = document.querySelector('#df-a421a397-0ec8-432b-a110-06af350f1a67');\n",
              "          const dataTable =\n",
              "            await google.colab.kernel.invokeFunction('convertToInteractive',\n",
              "                                                     [key], {});\n",
              "          if (!dataTable) return;\n",
              "\n",
              "          const docLinkHtml = 'Like what you see? Visit the ' +\n",
              "            '<a target=\"_blank\" href=https://colab.research.google.com/notebooks/data_table.ipynb>data table notebook</a>'\n",
              "            + ' to learn more about interactive tables.';\n",
              "          element.innerHTML = '';\n",
              "          dataTable['output_type'] = 'display_data';\n",
              "          await google.colab.output.renderOutput(dataTable, element);\n",
              "          const docLink = document.createElement('div');\n",
              "          docLink.innerHTML = docLinkHtml;\n",
              "          element.appendChild(docLink);\n",
              "        }\n",
              "      </script>\n",
              "    </div>\n",
              "  </div>\n",
              "  "
            ]
          },
          "metadata": {},
          "execution_count": 25
        }
      ],
      "source": [
        "from sklearn.ensemble import BaggingClassifier\n",
        "\n",
        "evaluate_classification(model = BaggingClassifier(), X=X_train, y=y_train)"
      ]
    },
    {
      "cell_type": "code",
      "execution_count": 26,
      "metadata": {
        "colab": {
          "base_uri": "https://localhost:8080/",
          "height": 175
        },
        "id": "C9bNNfc2mCNf",
        "outputId": "2308bf8b-98a8-4630-efd4-dffee4132f21"
      },
      "outputs": [
        {
          "output_type": "execute_result",
          "data": {
            "text/plain": [
              "                          Model  AUC Train  AUC Cross-Valida\n",
              "3  GradientBoostingClassifier()   0.687301          0.670275\n",
              "1          AdaBoostClassifier()   0.663378          0.656281\n",
              "0          LogisticRegression()   0.626643          0.622135\n",
              "2           BaggingClassifier()   0.998928          0.615698"
            ],
            "text/html": [
              "\n",
              "  <div id=\"df-a15331a6-9f71-4c4d-9e42-f95f433aa343\">\n",
              "    <div class=\"colab-df-container\">\n",
              "      <div>\n",
              "<style scoped>\n",
              "    .dataframe tbody tr th:only-of-type {\n",
              "        vertical-align: middle;\n",
              "    }\n",
              "\n",
              "    .dataframe tbody tr th {\n",
              "        vertical-align: top;\n",
              "    }\n",
              "\n",
              "    .dataframe thead th {\n",
              "        text-align: right;\n",
              "    }\n",
              "</style>\n",
              "<table border=\"1\" class=\"dataframe\">\n",
              "  <thead>\n",
              "    <tr style=\"text-align: right;\">\n",
              "      <th></th>\n",
              "      <th>Model</th>\n",
              "      <th>AUC Train</th>\n",
              "      <th>AUC Cross-Valida</th>\n",
              "    </tr>\n",
              "  </thead>\n",
              "  <tbody>\n",
              "    <tr>\n",
              "      <th>3</th>\n",
              "      <td>GradientBoostingClassifier()</td>\n",
              "      <td>0.687301</td>\n",
              "      <td>0.670275</td>\n",
              "    </tr>\n",
              "    <tr>\n",
              "      <th>1</th>\n",
              "      <td>AdaBoostClassifier()</td>\n",
              "      <td>0.663378</td>\n",
              "      <td>0.656281</td>\n",
              "    </tr>\n",
              "    <tr>\n",
              "      <th>0</th>\n",
              "      <td>LogisticRegression()</td>\n",
              "      <td>0.626643</td>\n",
              "      <td>0.622135</td>\n",
              "    </tr>\n",
              "    <tr>\n",
              "      <th>2</th>\n",
              "      <td>BaggingClassifier()</td>\n",
              "      <td>0.998928</td>\n",
              "      <td>0.615698</td>\n",
              "    </tr>\n",
              "  </tbody>\n",
              "</table>\n",
              "</div>\n",
              "      <button class=\"colab-df-convert\" onclick=\"convertToInteractive('df-a15331a6-9f71-4c4d-9e42-f95f433aa343')\"\n",
              "              title=\"Convert this dataframe to an interactive table.\"\n",
              "              style=\"display:none;\">\n",
              "        \n",
              "  <svg xmlns=\"http://www.w3.org/2000/svg\" height=\"24px\"viewBox=\"0 0 24 24\"\n",
              "       width=\"24px\">\n",
              "    <path d=\"M0 0h24v24H0V0z\" fill=\"none\"/>\n",
              "    <path d=\"M18.56 5.44l.94 2.06.94-2.06 2.06-.94-2.06-.94-.94-2.06-.94 2.06-2.06.94zm-11 1L8.5 8.5l.94-2.06 2.06-.94-2.06-.94L8.5 2.5l-.94 2.06-2.06.94zm10 10l.94 2.06.94-2.06 2.06-.94-2.06-.94-.94-2.06-.94 2.06-2.06.94z\"/><path d=\"M17.41 7.96l-1.37-1.37c-.4-.4-.92-.59-1.43-.59-.52 0-1.04.2-1.43.59L10.3 9.45l-7.72 7.72c-.78.78-.78 2.05 0 2.83L4 21.41c.39.39.9.59 1.41.59.51 0 1.02-.2 1.41-.59l7.78-7.78 2.81-2.81c.8-.78.8-2.07 0-2.86zM5.41 20L4 18.59l7.72-7.72 1.47 1.35L5.41 20z\"/>\n",
              "  </svg>\n",
              "      </button>\n",
              "      \n",
              "  <style>\n",
              "    .colab-df-container {\n",
              "      display:flex;\n",
              "      flex-wrap:wrap;\n",
              "      gap: 12px;\n",
              "    }\n",
              "\n",
              "    .colab-df-convert {\n",
              "      background-color: #E8F0FE;\n",
              "      border: none;\n",
              "      border-radius: 50%;\n",
              "      cursor: pointer;\n",
              "      display: none;\n",
              "      fill: #1967D2;\n",
              "      height: 32px;\n",
              "      padding: 0 0 0 0;\n",
              "      width: 32px;\n",
              "    }\n",
              "\n",
              "    .colab-df-convert:hover {\n",
              "      background-color: #E2EBFA;\n",
              "      box-shadow: 0px 1px 2px rgba(60, 64, 67, 0.3), 0px 1px 3px 1px rgba(60, 64, 67, 0.15);\n",
              "      fill: #174EA6;\n",
              "    }\n",
              "\n",
              "    [theme=dark] .colab-df-convert {\n",
              "      background-color: #3B4455;\n",
              "      fill: #D2E3FC;\n",
              "    }\n",
              "\n",
              "    [theme=dark] .colab-df-convert:hover {\n",
              "      background-color: #434B5C;\n",
              "      box-shadow: 0px 1px 3px 1px rgba(0, 0, 0, 0.15);\n",
              "      filter: drop-shadow(0px 1px 2px rgba(0, 0, 0, 0.3));\n",
              "      fill: #FFFFFF;\n",
              "    }\n",
              "  </style>\n",
              "\n",
              "      <script>\n",
              "        const buttonEl =\n",
              "          document.querySelector('#df-a15331a6-9f71-4c4d-9e42-f95f433aa343 button.colab-df-convert');\n",
              "        buttonEl.style.display =\n",
              "          google.colab.kernel.accessAllowed ? 'block' : 'none';\n",
              "\n",
              "        async function convertToInteractive(key) {\n",
              "          const element = document.querySelector('#df-a15331a6-9f71-4c4d-9e42-f95f433aa343');\n",
              "          const dataTable =\n",
              "            await google.colab.kernel.invokeFunction('convertToInteractive',\n",
              "                                                     [key], {});\n",
              "          if (!dataTable) return;\n",
              "\n",
              "          const docLinkHtml = 'Like what you see? Visit the ' +\n",
              "            '<a target=\"_blank\" href=https://colab.research.google.com/notebooks/data_table.ipynb>data table notebook</a>'\n",
              "            + ' to learn more about interactive tables.';\n",
              "          element.innerHTML = '';\n",
              "          dataTable['output_type'] = 'display_data';\n",
              "          await google.colab.output.renderOutput(dataTable, element);\n",
              "          const docLink = document.createElement('div');\n",
              "          docLink.innerHTML = docLinkHtml;\n",
              "          element.appendChild(docLink);\n",
              "        }\n",
              "      </script>\n",
              "    </div>\n",
              "  </div>\n",
              "  "
            ]
          },
          "metadata": {},
          "execution_count": 26
        }
      ],
      "source": [
        "from sklearn.ensemble import GradientBoostingClassifier\n",
        "\n",
        "evaluate_classification(model = GradientBoostingClassifier(), X=X_train, y=y_train)"
      ]
    },
    {
      "cell_type": "code",
      "execution_count": 27,
      "metadata": {
        "colab": {
          "base_uri": "https://localhost:8080/",
          "height": 206
        },
        "id": "lXCX_708mCKm",
        "outputId": "27e98b7b-fc85-4945-d5bc-7517f6c40972"
      },
      "outputs": [
        {
          "output_type": "execute_result",
          "data": {
            "text/plain": [
              "                          Model  AUC Train  AUC Cross-Valida\n",
              "3  GradientBoostingClassifier()   0.687301          0.670275\n",
              "4      RandomForestClassifier()   1.000000          0.658743\n",
              "1          AdaBoostClassifier()   0.663378          0.656281\n",
              "0          LogisticRegression()   0.626643          0.622135\n",
              "2           BaggingClassifier()   0.998928          0.615698"
            ],
            "text/html": [
              "\n",
              "  <div id=\"df-a278647f-6873-427a-9f35-2e5b07cf9e40\">\n",
              "    <div class=\"colab-df-container\">\n",
              "      <div>\n",
              "<style scoped>\n",
              "    .dataframe tbody tr th:only-of-type {\n",
              "        vertical-align: middle;\n",
              "    }\n",
              "\n",
              "    .dataframe tbody tr th {\n",
              "        vertical-align: top;\n",
              "    }\n",
              "\n",
              "    .dataframe thead th {\n",
              "        text-align: right;\n",
              "    }\n",
              "</style>\n",
              "<table border=\"1\" class=\"dataframe\">\n",
              "  <thead>\n",
              "    <tr style=\"text-align: right;\">\n",
              "      <th></th>\n",
              "      <th>Model</th>\n",
              "      <th>AUC Train</th>\n",
              "      <th>AUC Cross-Valida</th>\n",
              "    </tr>\n",
              "  </thead>\n",
              "  <tbody>\n",
              "    <tr>\n",
              "      <th>3</th>\n",
              "      <td>GradientBoostingClassifier()</td>\n",
              "      <td>0.687301</td>\n",
              "      <td>0.670275</td>\n",
              "    </tr>\n",
              "    <tr>\n",
              "      <th>4</th>\n",
              "      <td>RandomForestClassifier()</td>\n",
              "      <td>1.000000</td>\n",
              "      <td>0.658743</td>\n",
              "    </tr>\n",
              "    <tr>\n",
              "      <th>1</th>\n",
              "      <td>AdaBoostClassifier()</td>\n",
              "      <td>0.663378</td>\n",
              "      <td>0.656281</td>\n",
              "    </tr>\n",
              "    <tr>\n",
              "      <th>0</th>\n",
              "      <td>LogisticRegression()</td>\n",
              "      <td>0.626643</td>\n",
              "      <td>0.622135</td>\n",
              "    </tr>\n",
              "    <tr>\n",
              "      <th>2</th>\n",
              "      <td>BaggingClassifier()</td>\n",
              "      <td>0.998928</td>\n",
              "      <td>0.615698</td>\n",
              "    </tr>\n",
              "  </tbody>\n",
              "</table>\n",
              "</div>\n",
              "      <button class=\"colab-df-convert\" onclick=\"convertToInteractive('df-a278647f-6873-427a-9f35-2e5b07cf9e40')\"\n",
              "              title=\"Convert this dataframe to an interactive table.\"\n",
              "              style=\"display:none;\">\n",
              "        \n",
              "  <svg xmlns=\"http://www.w3.org/2000/svg\" height=\"24px\"viewBox=\"0 0 24 24\"\n",
              "       width=\"24px\">\n",
              "    <path d=\"M0 0h24v24H0V0z\" fill=\"none\"/>\n",
              "    <path d=\"M18.56 5.44l.94 2.06.94-2.06 2.06-.94-2.06-.94-.94-2.06-.94 2.06-2.06.94zm-11 1L8.5 8.5l.94-2.06 2.06-.94-2.06-.94L8.5 2.5l-.94 2.06-2.06.94zm10 10l.94 2.06.94-2.06 2.06-.94-2.06-.94-.94-2.06-.94 2.06-2.06.94z\"/><path d=\"M17.41 7.96l-1.37-1.37c-.4-.4-.92-.59-1.43-.59-.52 0-1.04.2-1.43.59L10.3 9.45l-7.72 7.72c-.78.78-.78 2.05 0 2.83L4 21.41c.39.39.9.59 1.41.59.51 0 1.02-.2 1.41-.59l7.78-7.78 2.81-2.81c.8-.78.8-2.07 0-2.86zM5.41 20L4 18.59l7.72-7.72 1.47 1.35L5.41 20z\"/>\n",
              "  </svg>\n",
              "      </button>\n",
              "      \n",
              "  <style>\n",
              "    .colab-df-container {\n",
              "      display:flex;\n",
              "      flex-wrap:wrap;\n",
              "      gap: 12px;\n",
              "    }\n",
              "\n",
              "    .colab-df-convert {\n",
              "      background-color: #E8F0FE;\n",
              "      border: none;\n",
              "      border-radius: 50%;\n",
              "      cursor: pointer;\n",
              "      display: none;\n",
              "      fill: #1967D2;\n",
              "      height: 32px;\n",
              "      padding: 0 0 0 0;\n",
              "      width: 32px;\n",
              "    }\n",
              "\n",
              "    .colab-df-convert:hover {\n",
              "      background-color: #E2EBFA;\n",
              "      box-shadow: 0px 1px 2px rgba(60, 64, 67, 0.3), 0px 1px 3px 1px rgba(60, 64, 67, 0.15);\n",
              "      fill: #174EA6;\n",
              "    }\n",
              "\n",
              "    [theme=dark] .colab-df-convert {\n",
              "      background-color: #3B4455;\n",
              "      fill: #D2E3FC;\n",
              "    }\n",
              "\n",
              "    [theme=dark] .colab-df-convert:hover {\n",
              "      background-color: #434B5C;\n",
              "      box-shadow: 0px 1px 3px 1px rgba(0, 0, 0, 0.15);\n",
              "      filter: drop-shadow(0px 1px 2px rgba(0, 0, 0, 0.3));\n",
              "      fill: #FFFFFF;\n",
              "    }\n",
              "  </style>\n",
              "\n",
              "      <script>\n",
              "        const buttonEl =\n",
              "          document.querySelector('#df-a278647f-6873-427a-9f35-2e5b07cf9e40 button.colab-df-convert');\n",
              "        buttonEl.style.display =\n",
              "          google.colab.kernel.accessAllowed ? 'block' : 'none';\n",
              "\n",
              "        async function convertToInteractive(key) {\n",
              "          const element = document.querySelector('#df-a278647f-6873-427a-9f35-2e5b07cf9e40');\n",
              "          const dataTable =\n",
              "            await google.colab.kernel.invokeFunction('convertToInteractive',\n",
              "                                                     [key], {});\n",
              "          if (!dataTable) return;\n",
              "\n",
              "          const docLinkHtml = 'Like what you see? Visit the ' +\n",
              "            '<a target=\"_blank\" href=https://colab.research.google.com/notebooks/data_table.ipynb>data table notebook</a>'\n",
              "            + ' to learn more about interactive tables.';\n",
              "          element.innerHTML = '';\n",
              "          dataTable['output_type'] = 'display_data';\n",
              "          await google.colab.output.renderOutput(dataTable, element);\n",
              "          const docLink = document.createElement('div');\n",
              "          docLink.innerHTML = docLinkHtml;\n",
              "          element.appendChild(docLink);\n",
              "        }\n",
              "      </script>\n",
              "    </div>\n",
              "  </div>\n",
              "  "
            ]
          },
          "metadata": {},
          "execution_count": 27
        }
      ],
      "source": [
        "from sklearn.ensemble import RandomForestClassifier\n",
        "\n",
        "evaluate_classification(model = RandomForestClassifier(), X=X_train, y=y_train)"
      ]
    },
    {
      "cell_type": "code",
      "execution_count": 28,
      "metadata": {
        "colab": {
          "base_uri": "https://localhost:8080/",
          "height": 237
        },
        "id": "KJwYJ62gqbi2",
        "outputId": "68375491-3fe1-4b65-d124-206ee8dd58cf"
      },
      "outputs": [
        {
          "output_type": "execute_result",
          "data": {
            "text/plain": [
              "                              Model  AUC Train  AUC Cross-Valida\n",
              "5  HistGradientBoostingClassifier()   0.745495          0.677811\n",
              "3      GradientBoostingClassifier()   0.687301          0.670275\n",
              "4          RandomForestClassifier()   1.000000          0.658743\n",
              "1              AdaBoostClassifier()   0.663378          0.656281\n",
              "0              LogisticRegression()   0.626643          0.622135\n",
              "2               BaggingClassifier()   0.998928          0.615698"
            ],
            "text/html": [
              "\n",
              "  <div id=\"df-00dad4e5-e897-4b15-a186-42274565c368\">\n",
              "    <div class=\"colab-df-container\">\n",
              "      <div>\n",
              "<style scoped>\n",
              "    .dataframe tbody tr th:only-of-type {\n",
              "        vertical-align: middle;\n",
              "    }\n",
              "\n",
              "    .dataframe tbody tr th {\n",
              "        vertical-align: top;\n",
              "    }\n",
              "\n",
              "    .dataframe thead th {\n",
              "        text-align: right;\n",
              "    }\n",
              "</style>\n",
              "<table border=\"1\" class=\"dataframe\">\n",
              "  <thead>\n",
              "    <tr style=\"text-align: right;\">\n",
              "      <th></th>\n",
              "      <th>Model</th>\n",
              "      <th>AUC Train</th>\n",
              "      <th>AUC Cross-Valida</th>\n",
              "    </tr>\n",
              "  </thead>\n",
              "  <tbody>\n",
              "    <tr>\n",
              "      <th>5</th>\n",
              "      <td>HistGradientBoostingClassifier()</td>\n",
              "      <td>0.745495</td>\n",
              "      <td>0.677811</td>\n",
              "    </tr>\n",
              "    <tr>\n",
              "      <th>3</th>\n",
              "      <td>GradientBoostingClassifier()</td>\n",
              "      <td>0.687301</td>\n",
              "      <td>0.670275</td>\n",
              "    </tr>\n",
              "    <tr>\n",
              "      <th>4</th>\n",
              "      <td>RandomForestClassifier()</td>\n",
              "      <td>1.000000</td>\n",
              "      <td>0.658743</td>\n",
              "    </tr>\n",
              "    <tr>\n",
              "      <th>1</th>\n",
              "      <td>AdaBoostClassifier()</td>\n",
              "      <td>0.663378</td>\n",
              "      <td>0.656281</td>\n",
              "    </tr>\n",
              "    <tr>\n",
              "      <th>0</th>\n",
              "      <td>LogisticRegression()</td>\n",
              "      <td>0.626643</td>\n",
              "      <td>0.622135</td>\n",
              "    </tr>\n",
              "    <tr>\n",
              "      <th>2</th>\n",
              "      <td>BaggingClassifier()</td>\n",
              "      <td>0.998928</td>\n",
              "      <td>0.615698</td>\n",
              "    </tr>\n",
              "  </tbody>\n",
              "</table>\n",
              "</div>\n",
              "      <button class=\"colab-df-convert\" onclick=\"convertToInteractive('df-00dad4e5-e897-4b15-a186-42274565c368')\"\n",
              "              title=\"Convert this dataframe to an interactive table.\"\n",
              "              style=\"display:none;\">\n",
              "        \n",
              "  <svg xmlns=\"http://www.w3.org/2000/svg\" height=\"24px\"viewBox=\"0 0 24 24\"\n",
              "       width=\"24px\">\n",
              "    <path d=\"M0 0h24v24H0V0z\" fill=\"none\"/>\n",
              "    <path d=\"M18.56 5.44l.94 2.06.94-2.06 2.06-.94-2.06-.94-.94-2.06-.94 2.06-2.06.94zm-11 1L8.5 8.5l.94-2.06 2.06-.94-2.06-.94L8.5 2.5l-.94 2.06-2.06.94zm10 10l.94 2.06.94-2.06 2.06-.94-2.06-.94-.94-2.06-.94 2.06-2.06.94z\"/><path d=\"M17.41 7.96l-1.37-1.37c-.4-.4-.92-.59-1.43-.59-.52 0-1.04.2-1.43.59L10.3 9.45l-7.72 7.72c-.78.78-.78 2.05 0 2.83L4 21.41c.39.39.9.59 1.41.59.51 0 1.02-.2 1.41-.59l7.78-7.78 2.81-2.81c.8-.78.8-2.07 0-2.86zM5.41 20L4 18.59l7.72-7.72 1.47 1.35L5.41 20z\"/>\n",
              "  </svg>\n",
              "      </button>\n",
              "      \n",
              "  <style>\n",
              "    .colab-df-container {\n",
              "      display:flex;\n",
              "      flex-wrap:wrap;\n",
              "      gap: 12px;\n",
              "    }\n",
              "\n",
              "    .colab-df-convert {\n",
              "      background-color: #E8F0FE;\n",
              "      border: none;\n",
              "      border-radius: 50%;\n",
              "      cursor: pointer;\n",
              "      display: none;\n",
              "      fill: #1967D2;\n",
              "      height: 32px;\n",
              "      padding: 0 0 0 0;\n",
              "      width: 32px;\n",
              "    }\n",
              "\n",
              "    .colab-df-convert:hover {\n",
              "      background-color: #E2EBFA;\n",
              "      box-shadow: 0px 1px 2px rgba(60, 64, 67, 0.3), 0px 1px 3px 1px rgba(60, 64, 67, 0.15);\n",
              "      fill: #174EA6;\n",
              "    }\n",
              "\n",
              "    [theme=dark] .colab-df-convert {\n",
              "      background-color: #3B4455;\n",
              "      fill: #D2E3FC;\n",
              "    }\n",
              "\n",
              "    [theme=dark] .colab-df-convert:hover {\n",
              "      background-color: #434B5C;\n",
              "      box-shadow: 0px 1px 3px 1px rgba(0, 0, 0, 0.15);\n",
              "      filter: drop-shadow(0px 1px 2px rgba(0, 0, 0, 0.3));\n",
              "      fill: #FFFFFF;\n",
              "    }\n",
              "  </style>\n",
              "\n",
              "      <script>\n",
              "        const buttonEl =\n",
              "          document.querySelector('#df-00dad4e5-e897-4b15-a186-42274565c368 button.colab-df-convert');\n",
              "        buttonEl.style.display =\n",
              "          google.colab.kernel.accessAllowed ? 'block' : 'none';\n",
              "\n",
              "        async function convertToInteractive(key) {\n",
              "          const element = document.querySelector('#df-00dad4e5-e897-4b15-a186-42274565c368');\n",
              "          const dataTable =\n",
              "            await google.colab.kernel.invokeFunction('convertToInteractive',\n",
              "                                                     [key], {});\n",
              "          if (!dataTable) return;\n",
              "\n",
              "          const docLinkHtml = 'Like what you see? Visit the ' +\n",
              "            '<a target=\"_blank\" href=https://colab.research.google.com/notebooks/data_table.ipynb>data table notebook</a>'\n",
              "            + ' to learn more about interactive tables.';\n",
              "          element.innerHTML = '';\n",
              "          dataTable['output_type'] = 'display_data';\n",
              "          await google.colab.output.renderOutput(dataTable, element);\n",
              "          const docLink = document.createElement('div');\n",
              "          docLink.innerHTML = docLinkHtml;\n",
              "          element.appendChild(docLink);\n",
              "        }\n",
              "      </script>\n",
              "    </div>\n",
              "  </div>\n",
              "  "
            ]
          },
          "metadata": {},
          "execution_count": 28
        }
      ],
      "source": [
        "from sklearn.ensemble import HistGradientBoostingClassifier\n",
        "\n",
        "evaluate_classification(model = HistGradientBoostingClassifier(), \n",
        "                        X=X_train, y=y_train)"
      ]
    },
    {
      "cell_type": "code",
      "execution_count": 29,
      "metadata": {
        "colab": {
          "base_uri": "https://localhost:8080/",
          "height": 269
        },
        "id": "_7RcVQc3qzmH",
        "outputId": "5dcf7865-264c-4e01-c7ea-1d55e4f42f84"
      },
      "outputs": [
        {
          "output_type": "execute_result",
          "data": {
            "text/plain": [
              "                                               Model  AUC Train  \\\n",
              "5                   HistGradientBoostingClassifier()   0.745495   \n",
              "3                       GradientBoostingClassifier()   0.687301   \n",
              "6  XGBClassifier(base_score=None, booster=None, c...   0.843611   \n",
              "4                           RandomForestClassifier()   1.000000   \n",
              "1                               AdaBoostClassifier()   0.663378   \n",
              "0                               LogisticRegression()   0.626643   \n",
              "2                                BaggingClassifier()   0.998928   \n",
              "\n",
              "   AUC Cross-Valida  \n",
              "5          0.677811  \n",
              "3          0.670275  \n",
              "6          0.667415  \n",
              "4          0.658743  \n",
              "1          0.656281  \n",
              "0          0.622135  \n",
              "2          0.615698  "
            ],
            "text/html": [
              "\n",
              "  <div id=\"df-08545dd5-a153-41f7-848d-944bac0be490\">\n",
              "    <div class=\"colab-df-container\">\n",
              "      <div>\n",
              "<style scoped>\n",
              "    .dataframe tbody tr th:only-of-type {\n",
              "        vertical-align: middle;\n",
              "    }\n",
              "\n",
              "    .dataframe tbody tr th {\n",
              "        vertical-align: top;\n",
              "    }\n",
              "\n",
              "    .dataframe thead th {\n",
              "        text-align: right;\n",
              "    }\n",
              "</style>\n",
              "<table border=\"1\" class=\"dataframe\">\n",
              "  <thead>\n",
              "    <tr style=\"text-align: right;\">\n",
              "      <th></th>\n",
              "      <th>Model</th>\n",
              "      <th>AUC Train</th>\n",
              "      <th>AUC Cross-Valida</th>\n",
              "    </tr>\n",
              "  </thead>\n",
              "  <tbody>\n",
              "    <tr>\n",
              "      <th>5</th>\n",
              "      <td>HistGradientBoostingClassifier()</td>\n",
              "      <td>0.745495</td>\n",
              "      <td>0.677811</td>\n",
              "    </tr>\n",
              "    <tr>\n",
              "      <th>3</th>\n",
              "      <td>GradientBoostingClassifier()</td>\n",
              "      <td>0.687301</td>\n",
              "      <td>0.670275</td>\n",
              "    </tr>\n",
              "    <tr>\n",
              "      <th>6</th>\n",
              "      <td>XGBClassifier(base_score=None, booster=None, c...</td>\n",
              "      <td>0.843611</td>\n",
              "      <td>0.667415</td>\n",
              "    </tr>\n",
              "    <tr>\n",
              "      <th>4</th>\n",
              "      <td>RandomForestClassifier()</td>\n",
              "      <td>1.000000</td>\n",
              "      <td>0.658743</td>\n",
              "    </tr>\n",
              "    <tr>\n",
              "      <th>1</th>\n",
              "      <td>AdaBoostClassifier()</td>\n",
              "      <td>0.663378</td>\n",
              "      <td>0.656281</td>\n",
              "    </tr>\n",
              "    <tr>\n",
              "      <th>0</th>\n",
              "      <td>LogisticRegression()</td>\n",
              "      <td>0.626643</td>\n",
              "      <td>0.622135</td>\n",
              "    </tr>\n",
              "    <tr>\n",
              "      <th>2</th>\n",
              "      <td>BaggingClassifier()</td>\n",
              "      <td>0.998928</td>\n",
              "      <td>0.615698</td>\n",
              "    </tr>\n",
              "  </tbody>\n",
              "</table>\n",
              "</div>\n",
              "      <button class=\"colab-df-convert\" onclick=\"convertToInteractive('df-08545dd5-a153-41f7-848d-944bac0be490')\"\n",
              "              title=\"Convert this dataframe to an interactive table.\"\n",
              "              style=\"display:none;\">\n",
              "        \n",
              "  <svg xmlns=\"http://www.w3.org/2000/svg\" height=\"24px\"viewBox=\"0 0 24 24\"\n",
              "       width=\"24px\">\n",
              "    <path d=\"M0 0h24v24H0V0z\" fill=\"none\"/>\n",
              "    <path d=\"M18.56 5.44l.94 2.06.94-2.06 2.06-.94-2.06-.94-.94-2.06-.94 2.06-2.06.94zm-11 1L8.5 8.5l.94-2.06 2.06-.94-2.06-.94L8.5 2.5l-.94 2.06-2.06.94zm10 10l.94 2.06.94-2.06 2.06-.94-2.06-.94-.94-2.06-.94 2.06-2.06.94z\"/><path d=\"M17.41 7.96l-1.37-1.37c-.4-.4-.92-.59-1.43-.59-.52 0-1.04.2-1.43.59L10.3 9.45l-7.72 7.72c-.78.78-.78 2.05 0 2.83L4 21.41c.39.39.9.59 1.41.59.51 0 1.02-.2 1.41-.59l7.78-7.78 2.81-2.81c.8-.78.8-2.07 0-2.86zM5.41 20L4 18.59l7.72-7.72 1.47 1.35L5.41 20z\"/>\n",
              "  </svg>\n",
              "      </button>\n",
              "      \n",
              "  <style>\n",
              "    .colab-df-container {\n",
              "      display:flex;\n",
              "      flex-wrap:wrap;\n",
              "      gap: 12px;\n",
              "    }\n",
              "\n",
              "    .colab-df-convert {\n",
              "      background-color: #E8F0FE;\n",
              "      border: none;\n",
              "      border-radius: 50%;\n",
              "      cursor: pointer;\n",
              "      display: none;\n",
              "      fill: #1967D2;\n",
              "      height: 32px;\n",
              "      padding: 0 0 0 0;\n",
              "      width: 32px;\n",
              "    }\n",
              "\n",
              "    .colab-df-convert:hover {\n",
              "      background-color: #E2EBFA;\n",
              "      box-shadow: 0px 1px 2px rgba(60, 64, 67, 0.3), 0px 1px 3px 1px rgba(60, 64, 67, 0.15);\n",
              "      fill: #174EA6;\n",
              "    }\n",
              "\n",
              "    [theme=dark] .colab-df-convert {\n",
              "      background-color: #3B4455;\n",
              "      fill: #D2E3FC;\n",
              "    }\n",
              "\n",
              "    [theme=dark] .colab-df-convert:hover {\n",
              "      background-color: #434B5C;\n",
              "      box-shadow: 0px 1px 3px 1px rgba(0, 0, 0, 0.15);\n",
              "      filter: drop-shadow(0px 1px 2px rgba(0, 0, 0, 0.3));\n",
              "      fill: #FFFFFF;\n",
              "    }\n",
              "  </style>\n",
              "\n",
              "      <script>\n",
              "        const buttonEl =\n",
              "          document.querySelector('#df-08545dd5-a153-41f7-848d-944bac0be490 button.colab-df-convert');\n",
              "        buttonEl.style.display =\n",
              "          google.colab.kernel.accessAllowed ? 'block' : 'none';\n",
              "\n",
              "        async function convertToInteractive(key) {\n",
              "          const element = document.querySelector('#df-08545dd5-a153-41f7-848d-944bac0be490');\n",
              "          const dataTable =\n",
              "            await google.colab.kernel.invokeFunction('convertToInteractive',\n",
              "                                                     [key], {});\n",
              "          if (!dataTable) return;\n",
              "\n",
              "          const docLinkHtml = 'Like what you see? Visit the ' +\n",
              "            '<a target=\"_blank\" href=https://colab.research.google.com/notebooks/data_table.ipynb>data table notebook</a>'\n",
              "            + ' to learn more about interactive tables.';\n",
              "          element.innerHTML = '';\n",
              "          dataTable['output_type'] = 'display_data';\n",
              "          await google.colab.output.renderOutput(dataTable, element);\n",
              "          const docLink = document.createElement('div');\n",
              "          docLink.innerHTML = docLinkHtml;\n",
              "          element.appendChild(docLink);\n",
              "        }\n",
              "      </script>\n",
              "    </div>\n",
              "  </div>\n",
              "  "
            ]
          },
          "metadata": {},
          "execution_count": 29
        }
      ],
      "source": [
        "from xgboost import XGBClassifier\n",
        "\n",
        "evaluate_classification(model = XGBClassifier(), \n",
        "                        X=X_train, y=y_train)"
      ]
    },
    {
      "cell_type": "code",
      "source": [],
      "metadata": {
        "id": "U_qesE3PSoqC"
      },
      "execution_count": null,
      "outputs": []
    },
    {
      "cell_type": "markdown",
      "metadata": {
        "id": "ux3A88WyM-49"
      },
      "source": [
        "## Hyperparameter tuning"
      ]
    },
    {
      "cell_type": "markdown",
      "metadata": {
        "id": "vk2FZme8W0Pp"
      },
      "source": [
        "Probamos diferentes configuraciones de los parametros del modelo ganador en el torneo de modelos con el objetivo de conseguir el mejor performance del modelo en los datos de VALIDACION."
      ]
    },
    {
      "cell_type": "code",
      "execution_count": 30,
      "metadata": {
        "id": "SIMfE6TITyna"
      },
      "outputs": [],
      "source": [
        "from sklearn.model_selection import RandomizedSearchCV"
      ]
    },
    {
      "cell_type": "code",
      "execution_count": 31,
      "metadata": {
        "id": "Wr71Suoyrptl"
      },
      "outputs": [],
      "source": [
        "parameters_hpHGB = {\n",
        "    'learning_rate': [0.01, 0.1, 1],\n",
        "    'max_iter': [100, 200, 300],\n",
        "    'max_depth': [3, 5, 7],\n",
        "    'l2_regularization': [0.0, 0.1, 0.5],\n",
        "    'min_samples_leaf': [1, 5, 10]\n",
        "}"
      ]
    },
    {
      "cell_type": "code",
      "execution_count": 32,
      "metadata": {
        "id": "3N-W4MzfrpoL"
      },
      "outputs": [],
      "source": [
        "search_hp = RandomizedSearchCV(estimator = HistGradientBoostingClassifier(), \n",
        "                               param_distributions = parameters_hpHGB,\n",
        "                               scoring = 'roc_auc',                         # metrica a optimizar: AUC\n",
        "                               cv = 4,                                      # numero de folds para cross-validation\n",
        "                               n_iter = 20,                                 # numero de iteraciones, cada una testeara una configuracion distinta\n",
        "                               n_jobs=-1, \n",
        "                               verbose=True)"
      ]
    },
    {
      "cell_type": "code",
      "execution_count": 33,
      "metadata": {
        "colab": {
          "base_uri": "https://localhost:8080/",
          "height": 134
        },
        "id": "AVjGkVwtsSQ3",
        "outputId": "4e7cd25f-2d7c-44ba-b5ee-e125665e23b1"
      },
      "outputs": [
        {
          "output_type": "stream",
          "name": "stdout",
          "text": [
            "Fitting 4 folds for each of 20 candidates, totalling 80 fits\n"
          ]
        },
        {
          "output_type": "execute_result",
          "data": {
            "text/plain": [
              "RandomizedSearchCV(cv=4, estimator=HistGradientBoostingClassifier(), n_iter=20,\n",
              "                   n_jobs=-1,\n",
              "                   param_distributions={'l2_regularization': [0.0, 0.1, 0.5],\n",
              "                                        'learning_rate': [0.01, 0.1, 1],\n",
              "                                        'max_depth': [3, 5, 7],\n",
              "                                        'max_iter': [100, 200, 300],\n",
              "                                        'min_samples_leaf': [1, 5, 10]},\n",
              "                   scoring='roc_auc', verbose=True)"
            ],
            "text/html": [
              "<style>#sk-container-id-1 {color: black;background-color: white;}#sk-container-id-1 pre{padding: 0;}#sk-container-id-1 div.sk-toggleable {background-color: white;}#sk-container-id-1 label.sk-toggleable__label {cursor: pointer;display: block;width: 100%;margin-bottom: 0;padding: 0.3em;box-sizing: border-box;text-align: center;}#sk-container-id-1 label.sk-toggleable__label-arrow:before {content: \"▸\";float: left;margin-right: 0.25em;color: #696969;}#sk-container-id-1 label.sk-toggleable__label-arrow:hover:before {color: black;}#sk-container-id-1 div.sk-estimator:hover label.sk-toggleable__label-arrow:before {color: black;}#sk-container-id-1 div.sk-toggleable__content {max-height: 0;max-width: 0;overflow: hidden;text-align: left;background-color: #f0f8ff;}#sk-container-id-1 div.sk-toggleable__content pre {margin: 0.2em;color: black;border-radius: 0.25em;background-color: #f0f8ff;}#sk-container-id-1 input.sk-toggleable__control:checked~div.sk-toggleable__content {max-height: 200px;max-width: 100%;overflow: auto;}#sk-container-id-1 input.sk-toggleable__control:checked~label.sk-toggleable__label-arrow:before {content: \"▾\";}#sk-container-id-1 div.sk-estimator input.sk-toggleable__control:checked~label.sk-toggleable__label {background-color: #d4ebff;}#sk-container-id-1 div.sk-label input.sk-toggleable__control:checked~label.sk-toggleable__label {background-color: #d4ebff;}#sk-container-id-1 input.sk-hidden--visually {border: 0;clip: rect(1px 1px 1px 1px);clip: rect(1px, 1px, 1px, 1px);height: 1px;margin: -1px;overflow: hidden;padding: 0;position: absolute;width: 1px;}#sk-container-id-1 div.sk-estimator {font-family: monospace;background-color: #f0f8ff;border: 1px dotted black;border-radius: 0.25em;box-sizing: border-box;margin-bottom: 0.5em;}#sk-container-id-1 div.sk-estimator:hover {background-color: #d4ebff;}#sk-container-id-1 div.sk-parallel-item::after {content: \"\";width: 100%;border-bottom: 1px solid gray;flex-grow: 1;}#sk-container-id-1 div.sk-label:hover label.sk-toggleable__label {background-color: #d4ebff;}#sk-container-id-1 div.sk-serial::before {content: \"\";position: absolute;border-left: 1px solid gray;box-sizing: border-box;top: 0;bottom: 0;left: 50%;z-index: 0;}#sk-container-id-1 div.sk-serial {display: flex;flex-direction: column;align-items: center;background-color: white;padding-right: 0.2em;padding-left: 0.2em;position: relative;}#sk-container-id-1 div.sk-item {position: relative;z-index: 1;}#sk-container-id-1 div.sk-parallel {display: flex;align-items: stretch;justify-content: center;background-color: white;position: relative;}#sk-container-id-1 div.sk-item::before, #sk-container-id-1 div.sk-parallel-item::before {content: \"\";position: absolute;border-left: 1px solid gray;box-sizing: border-box;top: 0;bottom: 0;left: 50%;z-index: -1;}#sk-container-id-1 div.sk-parallel-item {display: flex;flex-direction: column;z-index: 1;position: relative;background-color: white;}#sk-container-id-1 div.sk-parallel-item:first-child::after {align-self: flex-end;width: 50%;}#sk-container-id-1 div.sk-parallel-item:last-child::after {align-self: flex-start;width: 50%;}#sk-container-id-1 div.sk-parallel-item:only-child::after {width: 0;}#sk-container-id-1 div.sk-dashed-wrapped {border: 1px dashed gray;margin: 0 0.4em 0.5em 0.4em;box-sizing: border-box;padding-bottom: 0.4em;background-color: white;}#sk-container-id-1 div.sk-label label {font-family: monospace;font-weight: bold;display: inline-block;line-height: 1.2em;}#sk-container-id-1 div.sk-label-container {text-align: center;}#sk-container-id-1 div.sk-container {/* jupyter's `normalize.less` sets `[hidden] { display: none; }` but bootstrap.min.css set `[hidden] { display: none !important; }` so we also need the `!important` here to be able to override the default hidden behavior on the sphinx rendered scikit-learn.org. See: https://github.com/scikit-learn/scikit-learn/issues/21755 */display: inline-block !important;position: relative;}#sk-container-id-1 div.sk-text-repr-fallback {display: none;}</style><div id=\"sk-container-id-1\" class=\"sk-top-container\"><div class=\"sk-text-repr-fallback\"><pre>RandomizedSearchCV(cv=4, estimator=HistGradientBoostingClassifier(), n_iter=20,\n",
              "                   n_jobs=-1,\n",
              "                   param_distributions={&#x27;l2_regularization&#x27;: [0.0, 0.1, 0.5],\n",
              "                                        &#x27;learning_rate&#x27;: [0.01, 0.1, 1],\n",
              "                                        &#x27;max_depth&#x27;: [3, 5, 7],\n",
              "                                        &#x27;max_iter&#x27;: [100, 200, 300],\n",
              "                                        &#x27;min_samples_leaf&#x27;: [1, 5, 10]},\n",
              "                   scoring=&#x27;roc_auc&#x27;, verbose=True)</pre><b>In a Jupyter environment, please rerun this cell to show the HTML representation or trust the notebook. <br />On GitHub, the HTML representation is unable to render, please try loading this page with nbviewer.org.</b></div><div class=\"sk-container\" hidden><div class=\"sk-item sk-dashed-wrapped\"><div class=\"sk-label-container\"><div class=\"sk-label sk-toggleable\"><input class=\"sk-toggleable__control sk-hidden--visually\" id=\"sk-estimator-id-1\" type=\"checkbox\" ><label for=\"sk-estimator-id-1\" class=\"sk-toggleable__label sk-toggleable__label-arrow\">RandomizedSearchCV</label><div class=\"sk-toggleable__content\"><pre>RandomizedSearchCV(cv=4, estimator=HistGradientBoostingClassifier(), n_iter=20,\n",
              "                   n_jobs=-1,\n",
              "                   param_distributions={&#x27;l2_regularization&#x27;: [0.0, 0.1, 0.5],\n",
              "                                        &#x27;learning_rate&#x27;: [0.01, 0.1, 1],\n",
              "                                        &#x27;max_depth&#x27;: [3, 5, 7],\n",
              "                                        &#x27;max_iter&#x27;: [100, 200, 300],\n",
              "                                        &#x27;min_samples_leaf&#x27;: [1, 5, 10]},\n",
              "                   scoring=&#x27;roc_auc&#x27;, verbose=True)</pre></div></div></div><div class=\"sk-parallel\"><div class=\"sk-parallel-item\"><div class=\"sk-item\"><div class=\"sk-label-container\"><div class=\"sk-label sk-toggleable\"><input class=\"sk-toggleable__control sk-hidden--visually\" id=\"sk-estimator-id-2\" type=\"checkbox\" ><label for=\"sk-estimator-id-2\" class=\"sk-toggleable__label sk-toggleable__label-arrow\">estimator: HistGradientBoostingClassifier</label><div class=\"sk-toggleable__content\"><pre>HistGradientBoostingClassifier()</pre></div></div></div><div class=\"sk-serial\"><div class=\"sk-item\"><div class=\"sk-estimator sk-toggleable\"><input class=\"sk-toggleable__control sk-hidden--visually\" id=\"sk-estimator-id-3\" type=\"checkbox\" ><label for=\"sk-estimator-id-3\" class=\"sk-toggleable__label sk-toggleable__label-arrow\">HistGradientBoostingClassifier</label><div class=\"sk-toggleable__content\"><pre>HistGradientBoostingClassifier()</pre></div></div></div></div></div></div></div></div></div></div>"
            ]
          },
          "metadata": {},
          "execution_count": 33
        }
      ],
      "source": [
        "search_hp.fit(X_train, y_train)"
      ]
    },
    {
      "cell_type": "markdown",
      "metadata": {
        "id": "Tbq9-tC4_RpA"
      },
      "source": [
        "Corroboramos que realizando la hiperparametrizacion en HistGradientBoostingClassifier no mejora el modelo."
      ]
    },
    {
      "cell_type": "code",
      "execution_count": 34,
      "metadata": {
        "colab": {
          "base_uri": "https://localhost:8080/"
        },
        "id": "6DJhnwfWsZLE",
        "outputId": "3f7908f8-a4bb-4228-9e4f-c1a02f9501ce"
      },
      "outputs": [
        {
          "output_type": "stream",
          "name": "stdout",
          "text": [
            "---- Results from Random Search -----\n",
            "\n",
            " The best estimator across ALL searched params: HistGradientBoostingClassifier(max_depth=3, max_iter=300, min_samples_leaf=10)\n",
            "\n",
            " The best AUC: 0.6790013341521376\n",
            "\n",
            " The best parameters across ALL searched params:\n",
            " {'min_samples_leaf': 10, 'max_iter': 300, 'max_depth': 3, 'learning_rate': 0.1, 'l2_regularization': 0.0}\n"
          ]
        }
      ],
      "source": [
        "print(\"---- Results from Random Search -----\")\n",
        "print(\"\\n The best estimator across ALL searched params:\", search_hp.best_estimator_)\n",
        "print(\"\\n The best AUC:\", search_hp.best_score_)\n",
        "print(\"\\n The best parameters across ALL searched params:\\n\", search_hp.best_params_)"
      ]
    },
    {
      "cell_type": "code",
      "execution_count": 41,
      "metadata": {
        "id": "Eg1l3MKcvCIy"
      },
      "outputs": [],
      "source": [
        "best_model = search_hp.best_estimator_"
      ]
    },
    {
      "cell_type": "code",
      "execution_count": 36,
      "metadata": {
        "colab": {
          "base_uri": "https://localhost:8080/"
        },
        "id": "enjrAQp5BKja",
        "outputId": "0cd74ad2-49b3-4e88-eca8-e9359f8b1b3b"
      },
      "outputs": [
        {
          "output_type": "stream",
          "name": "stdout",
          "text": [
            "AUC Train: 0.714293255920211\n"
          ]
        }
      ],
      "source": [
        "print('AUC Train:', auc(best_model, X_train, y_train))"
      ]
    },
    {
      "cell_type": "code",
      "execution_count": 37,
      "metadata": {
        "colab": {
          "base_uri": "https://localhost:8080/"
        },
        "id": "zHB3QdU5BUCf",
        "outputId": "0069cbc8-f8f3-42e3-cb20-a7fa0abcb3ed"
      },
      "outputs": [
        {
          "output_type": "stream",
          "name": "stdout",
          "text": [
            "AUC CV: 0.6788157831652244\n"
          ]
        }
      ],
      "source": [
        "print('AUC CV:', auc_cross_validation(best_model, X_train, y_train))"
      ]
    },
    {
      "cell_type": "markdown",
      "metadata": {
        "id": "beq8LfsBBuJG"
      },
      "source": [
        "Vamos a probar la hiperparametrizacion con el modelo GradientBoostingClassifier()\t"
      ]
    },
    {
      "cell_type": "code",
      "execution_count": 38,
      "metadata": {
        "id": "AgnIuNzjBtQD"
      },
      "outputs": [],
      "source": [
        "parameters_hpGBC =  {\n",
        "    'learning_rate': [0.05, 0.1, 0.2],\n",
        "    'n_estimators': [50, 100, 200],\n",
        "    'max_depth': [3, 4, 5],\n",
        "    'min_samples_split': [2, 4, 6],\n",
        "    'min_samples_leaf': [1, 2, 3]\n",
        "}\n"
      ]
    },
    {
      "cell_type": "code",
      "execution_count": 39,
      "metadata": {
        "id": "fY0iEuCEBtIn"
      },
      "outputs": [],
      "source": [
        "search_hpGBC = RandomizedSearchCV(estimator = GradientBoostingClassifier(), \n",
        "                               param_distributions = parameters_hpGBC,\n",
        "                               scoring = 'roc_auc',                         # metrica a optimizar: AUC\n",
        "                               cv = 4,                                      # numero de folds para cross-validation\n",
        "                               n_iter = 20,                                 # numero de iteraciones, cada una testeara una configuracion distinta\n",
        "                               n_jobs=-1, \n",
        "                               verbose=True)"
      ]
    },
    {
      "cell_type": "code",
      "source": [
        "search_hpGBC.fit(X_train, y_train)"
      ],
      "metadata": {
        "id": "yh5lzx5bOqN2"
      },
      "execution_count": null,
      "outputs": []
    },
    {
      "cell_type": "markdown",
      "metadata": {
        "id": "bK-7WPxOLKmo"
      },
      "source": []
    },
    {
      "cell_type": "markdown",
      "metadata": {
        "id": "5ZEryZCCtBHq"
      },
      "source": [
        "## Select best model"
      ]
    },
    {
      "cell_type": "markdown",
      "metadata": {
        "id": "derxCay6NlG_"
      },
      "source": [
        "Explicar por que nos quedamos con este, y con los parametros por default porque nos demora mucho la hiperparametrizacion "
      ]
    },
    {
      "cell_type": "code",
      "source": [],
      "metadata": {
        "id": "AtVkX_ezOmJb"
      },
      "execution_count": null,
      "outputs": []
    },
    {
      "cell_type": "code",
      "execution_count": 42,
      "metadata": {
        "id": "YrsdDSrDs7vl",
        "colab": {
          "base_uri": "https://localhost:8080/",
          "height": 74
        },
        "outputId": "c22c8f73-70cf-4fe6-fd65-f5db5558f937"
      },
      "outputs": [
        {
          "output_type": "execute_result",
          "data": {
            "text/plain": [
              "HistGradientBoostingClassifier(max_depth=3, max_iter=300, min_samples_leaf=10)"
            ],
            "text/html": [
              "<style>#sk-container-id-2 {color: black;background-color: white;}#sk-container-id-2 pre{padding: 0;}#sk-container-id-2 div.sk-toggleable {background-color: white;}#sk-container-id-2 label.sk-toggleable__label {cursor: pointer;display: block;width: 100%;margin-bottom: 0;padding: 0.3em;box-sizing: border-box;text-align: center;}#sk-container-id-2 label.sk-toggleable__label-arrow:before {content: \"▸\";float: left;margin-right: 0.25em;color: #696969;}#sk-container-id-2 label.sk-toggleable__label-arrow:hover:before {color: black;}#sk-container-id-2 div.sk-estimator:hover label.sk-toggleable__label-arrow:before {color: black;}#sk-container-id-2 div.sk-toggleable__content {max-height: 0;max-width: 0;overflow: hidden;text-align: left;background-color: #f0f8ff;}#sk-container-id-2 div.sk-toggleable__content pre {margin: 0.2em;color: black;border-radius: 0.25em;background-color: #f0f8ff;}#sk-container-id-2 input.sk-toggleable__control:checked~div.sk-toggleable__content {max-height: 200px;max-width: 100%;overflow: auto;}#sk-container-id-2 input.sk-toggleable__control:checked~label.sk-toggleable__label-arrow:before {content: \"▾\";}#sk-container-id-2 div.sk-estimator input.sk-toggleable__control:checked~label.sk-toggleable__label {background-color: #d4ebff;}#sk-container-id-2 div.sk-label input.sk-toggleable__control:checked~label.sk-toggleable__label {background-color: #d4ebff;}#sk-container-id-2 input.sk-hidden--visually {border: 0;clip: rect(1px 1px 1px 1px);clip: rect(1px, 1px, 1px, 1px);height: 1px;margin: -1px;overflow: hidden;padding: 0;position: absolute;width: 1px;}#sk-container-id-2 div.sk-estimator {font-family: monospace;background-color: #f0f8ff;border: 1px dotted black;border-radius: 0.25em;box-sizing: border-box;margin-bottom: 0.5em;}#sk-container-id-2 div.sk-estimator:hover {background-color: #d4ebff;}#sk-container-id-2 div.sk-parallel-item::after {content: \"\";width: 100%;border-bottom: 1px solid gray;flex-grow: 1;}#sk-container-id-2 div.sk-label:hover label.sk-toggleable__label {background-color: #d4ebff;}#sk-container-id-2 div.sk-serial::before {content: \"\";position: absolute;border-left: 1px solid gray;box-sizing: border-box;top: 0;bottom: 0;left: 50%;z-index: 0;}#sk-container-id-2 div.sk-serial {display: flex;flex-direction: column;align-items: center;background-color: white;padding-right: 0.2em;padding-left: 0.2em;position: relative;}#sk-container-id-2 div.sk-item {position: relative;z-index: 1;}#sk-container-id-2 div.sk-parallel {display: flex;align-items: stretch;justify-content: center;background-color: white;position: relative;}#sk-container-id-2 div.sk-item::before, #sk-container-id-2 div.sk-parallel-item::before {content: \"\";position: absolute;border-left: 1px solid gray;box-sizing: border-box;top: 0;bottom: 0;left: 50%;z-index: -1;}#sk-container-id-2 div.sk-parallel-item {display: flex;flex-direction: column;z-index: 1;position: relative;background-color: white;}#sk-container-id-2 div.sk-parallel-item:first-child::after {align-self: flex-end;width: 50%;}#sk-container-id-2 div.sk-parallel-item:last-child::after {align-self: flex-start;width: 50%;}#sk-container-id-2 div.sk-parallel-item:only-child::after {width: 0;}#sk-container-id-2 div.sk-dashed-wrapped {border: 1px dashed gray;margin: 0 0.4em 0.5em 0.4em;box-sizing: border-box;padding-bottom: 0.4em;background-color: white;}#sk-container-id-2 div.sk-label label {font-family: monospace;font-weight: bold;display: inline-block;line-height: 1.2em;}#sk-container-id-2 div.sk-label-container {text-align: center;}#sk-container-id-2 div.sk-container {/* jupyter's `normalize.less` sets `[hidden] { display: none; }` but bootstrap.min.css set `[hidden] { display: none !important; }` so we also need the `!important` here to be able to override the default hidden behavior on the sphinx rendered scikit-learn.org. See: https://github.com/scikit-learn/scikit-learn/issues/21755 */display: inline-block !important;position: relative;}#sk-container-id-2 div.sk-text-repr-fallback {display: none;}</style><div id=\"sk-container-id-2\" class=\"sk-top-container\"><div class=\"sk-text-repr-fallback\"><pre>HistGradientBoostingClassifier(max_depth=3, max_iter=300, min_samples_leaf=10)</pre><b>In a Jupyter environment, please rerun this cell to show the HTML representation or trust the notebook. <br />On GitHub, the HTML representation is unable to render, please try loading this page with nbviewer.org.</b></div><div class=\"sk-container\" hidden><div class=\"sk-item\"><div class=\"sk-estimator sk-toggleable\"><input class=\"sk-toggleable__control sk-hidden--visually\" id=\"sk-estimator-id-4\" type=\"checkbox\" checked><label for=\"sk-estimator-id-4\" class=\"sk-toggleable__label sk-toggleable__label-arrow\">HistGradientBoostingClassifier</label><div class=\"sk-toggleable__content\"><pre>HistGradientBoostingClassifier(max_depth=3, max_iter=300, min_samples_leaf=10)</pre></div></div></div></div></div>"
            ]
          },
          "metadata": {},
          "execution_count": 42
        }
      ],
      "source": [
        "best_model "
      ]
    },
    {
      "cell_type": "code",
      "execution_count": 43,
      "metadata": {
        "id": "Ac2rlg6-wli_"
      },
      "outputs": [],
      "source": [
        "#Save model\n",
        "dump(best_model, open('/content/drive/MyDrive/FINAL/model.pkl', 'wb'))"
      ]
    },
    {
      "cell_type": "markdown",
      "metadata": {
        "id": "Qyr6cIzKpO4L"
      },
      "source": [
        "# TEST"
      ]
    },
    {
      "cell_type": "markdown",
      "metadata": {
        "id": "8KFUL8fRqDfN"
      },
      "source": [
        "* Evaluación de las métricas de performance en TEST.\n",
        "  * Clasificación: AUC, ROC curve, F1-score, Accuracy, Precision, Recall.\n",
        "  * Regresión: RMSE, R2-score, MAE, MAPE%, distribucion del error."
      ]
    },
    {
      "cell_type": "code",
      "execution_count": 44,
      "metadata": {
        "id": "gBg1nS5HpORN"
      },
      "outputs": [],
      "source": [
        "from sklearn.metrics import mean_absolute_error, mean_squared_error, r2_score"
      ]
    },
    {
      "cell_type": "code",
      "execution_count": 45,
      "metadata": {
        "id": "S2giQjnPxS51"
      },
      "outputs": [],
      "source": [
        "y_train_pred = best_model.predict(X_train)              # predicciones del modelo en los datos de TRAIN\n",
        "y_test_pred = best_model.predict(X_test)                # predicciones del modelo en los datos de TEST"
      ]
    },
    {
      "cell_type": "code",
      "source": [
        "y_train_pred_proba = best_model.predict_proba(X_train)[:, 1]      \n",
        "y_test_pred_proba = best_model.predict_proba(X_test)[:, 1]  "
      ],
      "metadata": {
        "id": "7LqiDVkYV-un"
      },
      "execution_count": 51,
      "outputs": []
    },
    {
      "cell_type": "code",
      "source": [
        "from sklearn.metrics import roc_auc_score\n",
        "auc_train = roc_auc_score(y_train, y_train_pred_proba)      \n",
        "auc_test = roc_auc_score(y_test, y_test_pred_proba) "
      ],
      "metadata": {
        "id": "GhVn-S6NV-qz"
      },
      "execution_count": 52,
      "outputs": []
    },
    {
      "cell_type": "code",
      "source": [
        "print('AUC Train:', round(auc_train,4))\n",
        "print('AUC Test:', round(auc_test,4))"
      ],
      "metadata": {
        "colab": {
          "base_uri": "https://localhost:8080/"
        },
        "id": "zdHwZ4OxV-gE",
        "outputId": "cc2a5dee-4c59-4a27-be35-d31be395f9ea"
      },
      "execution_count": 53,
      "outputs": [
        {
          "output_type": "stream",
          "name": "stdout",
          "text": [
            "AUC Train: 0.7143\n",
            "AUC Test: 0.6789\n"
          ]
        }
      ]
    },
    {
      "cell_type": "code",
      "source": [
        "from sklearn.metrics import roc_curve\n",
        "fpr_train, tpr_train, _ = roc_curve(y_train, y_train_pred_proba)\n",
        "fpr_test, tpr_test, _ = roc_curve(y_test, y_test_pred_proba)\n",
        "plt.figure(figsize=[10,8])\n",
        "plt.plot(fpr_train, tpr_train, label='TRAIN - AUC: {:.4f}'.format(auc_train))\n",
        "plt.plot(fpr_test, tpr_test, label='TEST - AUC: {:.4f}'.format(auc_test))\n",
        "plt.title('ROC Curve')\n",
        "plt.plot([0,0,1],[0,1,1], color='green', linestyle='--', linewidth=0.5, label='Ideal')\n",
        "plt.plot([0, 1], [0, 1], color='black', linestyle='--', linewidth=0.5, label='Random')\n",
        "plt.xlabel('False Positive Rate')\n",
        "plt.ylabel('True Positive Rate')\n",
        "plt.legend(loc=\"lower right\")\n",
        "plt.show()"
      ],
      "metadata": {
        "colab": {
          "base_uri": "https://localhost:8080/",
          "height": 513
        },
        "id": "GPS8yWozWVhU",
        "outputId": "2ae573b1-57b7-4695-f522-3eadc666ace8"
      },
      "execution_count": 54,
      "outputs": [
        {
          "output_type": "display_data",
          "data": {
            "text/plain": [
              "<Figure size 720x576 with 1 Axes>"
            ],
            "image/png": "[encoded data removed]"
          },
          "metadata": {
            "needs_background": "light"
          }
        }
      ]
    },
    {
      "cell_type": "code",
      "source": [
        "from sklearn.metrics import accuracy_score, precision_score, recall_score, f1_score\n",
        "\n",
        "print('Accuracy:', round( accuracy_score(y_test, y_test_pred),4))\n",
        "print('Precision:', round( precision_score(y_test, y_test_pred), 4))\n",
        "print('Recall:', round( recall_score(y_test, y_test_pred), 4))\n",
        "print('F1-score:', round(f1_score(y_test, y_test_pred), 4))"
      ],
      "metadata": {
        "colab": {
          "base_uri": "https://localhost:8080/"
        },
        "id": "k_1kzRNZWVdY",
        "outputId": "f1794c5e-3edb-4d48-8f5e-04bc16aad1e3"
      },
      "execution_count": 55,
      "outputs": [
        {
          "output_type": "stream",
          "name": "stdout",
          "text": [
            "Accuracy: 0.6263\n",
            "Precision: 0.6289\n",
            "Recall: 0.6537\n",
            "F1-score: 0.6411\n"
          ]
        }
      ]
    },
    {
      "cell_type": "markdown",
      "metadata": {
        "id": "wwxguM5bNe5l"
      },
      "source": [
        "# Interpretability / Explainability"
      ]
    },
    {
      "cell_type": "markdown",
      "metadata": {
        "id": "zfbv33dqOBb2"
      },
      "source": [
        "* En modelos lineales: top features por peso de los coeficentes y formula del modelo.\n",
        "* En modelos de arboles: Feature Importance y/o SHAP values y plot arbol de decision."
      ]
    },
    {
      "cell_type": "code",
      "source": [
        "!pip install --upgrade scikit-learn"
      ],
      "metadata": {
        "colab": {
          "base_uri": "https://localhost:8080/"
        },
        "id": "CftGrPIiYl71",
        "outputId": "f6dfa0e0-5a84-4d8e-82c6-1c8591956b22"
      },
      "execution_count": 61,
      "outputs": [
        {
          "output_type": "stream",
          "name": "stdout",
          "text": [
            "Looking in indexes: https://pypi.org/simple, https://us-python.pkg.dev/colab-wheels/public/simple/\n",
            "Requirement already satisfied: scikit-learn in /usr/local/lib/python3.9/dist-packages (1.2.2)\n",
            "Requirement already satisfied: joblib>=1.1.1 in /usr/local/lib/python3.9/dist-packages (from scikit-learn) (1.1.1)\n",
            "Requirement already satisfied: numpy>=1.17.3 in /usr/local/lib/python3.9/dist-packages (from scikit-learn) (1.22.4)\n",
            "Requirement already satisfied: threadpoolctl>=2.0.0 in /usr/local/lib/python3.9/dist-packages (from scikit-learn) (3.1.0)\n",
            "Requirement already satisfied: scipy>=1.3.2 in /usr/local/lib/python3.9/dist-packages (from scikit-learn) (1.10.1)\n"
          ]
        }
      ]
    },
    {
      "cell_type": "code",
      "source": [
        "import pickle\n",
        "\n",
        "# Guardar la variable en un archivo con pickle\n",
        "with open('/content/drive/MyDrive/FINAL/best_model.pkl', 'wb') as f:\n",
        "    pickle.dump(best_model, f)"
      ],
      "metadata": {
        "id": "CoCs0giobhZn"
      },
      "execution_count": 70,
      "outputs": []
    },
    {
      "cell_type": "code",
      "source": [
        "import pickle\n",
        "\n",
        "# Guardar la variable en un archivo con pickle\n",
        "with open('/content/drive/MyDrive/FINAL/search_hp.pkl', 'wb') as f:\n",
        "    pickle.dump(search_hp, f)"
      ],
      "metadata": {
        "id": "VpZ6OT12cLs_"
      },
      "execution_count": 71,
      "outputs": []
    }
  ],
  "metadata": {
    "colab": {
      "provenance": []
    },
    "kernelspec": {
      "display_name": "Python 3",
      "name": "python3"
    },
    "language_info": {
      "name": "python"
    }
  },
  "nbformat": 4,
  "nbformat_minor": 0
}